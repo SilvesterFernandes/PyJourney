{
 "cells": [
  {
   "cell_type": "markdown",
   "id": "ec892866-fe52-439c-83e0-ac36559f5397",
   "metadata": {},
   "source": [
    "______________________________________________________________________________________________\n",
    "<h1 style=\"color:#8A2BE2; font-weight: bold;\">Class - 1.5 : String Methods</h1>\n",
    "\n",
    "**Day & Date :** \n",
    "\n",
    "______________________________________________________________________________________________"
   ]
  },
  {
   "cell_type": "markdown",
   "id": "4f895fc6-1553-453b-b8f5-7105fa674384",
   "metadata": {},
   "source": [
    "<h2 style=\"color:#FF7F50; font-weight: bold;\">Introduction :</h2>\n",
    "\n",
    "- **String methods are built-in functions in Python that help you perform various operations on strings.**\n",
    "\n",
    "          Below are some commonly used string methods with examples.\n"
   ]
  },
  {
   "cell_type": "markdown",
   "id": "1ced32ab-4868-4d25-9d34-63ecd8ea7aa1",
   "metadata": {},
   "source": [
    "<h3 style=\"color: #3CB371; font-weight: bold;\">1. len() :</h3>\n",
    "\n",
    "- **Returns the length of a string.**\n"
   ]
  },
  {
   "cell_type": "code",
   "execution_count": 1,
   "id": "1d75ee44-861c-49d7-b4bc-8525ddb6a9e3",
   "metadata": {},
   "outputs": [
    {
     "name": "stdout",
     "output_type": "stream",
     "text": [
      "15\n"
     ]
    }
   ],
   "source": [
    "string = \"Hello, World!!!\"\n",
    "print(len(string))"
   ]
  },
  {
   "cell_type": "markdown",
   "id": "cf3ddc49-0110-4ca9-8710-787109d767a4",
   "metadata": {},
   "source": [
    "<h3 style=\"color: #3CB371; font-weight: bold;\">2. lower() :</h3>\n",
    "\n",
    "- **Converts all characters in a string to lowercase..**\n"
   ]
  },
  {
   "cell_type": "code",
   "execution_count": 61,
   "id": "973d86e8-a0a2-4296-98b4-432d12274229",
   "metadata": {},
   "outputs": [
    {
     "name": "stdout",
     "output_type": "stream",
     "text": [
      "hello, world!\n"
     ]
    }
   ],
   "source": [
    "string = \"HEllo, World!\"\n",
    "print(string.lower())"
   ]
  },
  {
   "cell_type": "markdown",
   "id": "94cd7d3a-a41c-4cba-b821-0a992759b50e",
   "metadata": {},
   "source": [
    "<h3 style=\"color: #3CB371; font-weight: bold;\">3. upper() :</h3>\n",
    "\n",
    "- **Converts all characters in a string to uppercase..**\n"
   ]
  },
  {
   "cell_type": "code",
   "execution_count": 65,
   "id": "c0d99155-6029-4e8b-98b1-2aaa13134a20",
   "metadata": {},
   "outputs": [
    {
     "name": "stdout",
     "output_type": "stream",
     "text": [
      "HELLO, WORLD!\n"
     ]
    }
   ],
   "source": [
    "string = \"Hello, World!\"\n",
    "print(string.upper())"
   ]
  },
  {
   "cell_type": "markdown",
   "id": "e2b94345-5d2e-4c72-9aea-726f05bd9566",
   "metadata": {},
   "source": [
    "<h3 style=\"color: #3CB371; font-weight: bold;\">4. swapcase() :</h3>\n",
    "\n",
    "- **Swaps the case of all characters in the string...**\n",
    "- All uppercase Characters Converts into Lowercase & viceversa\n"
   ]
  },
  {
   "cell_type": "code",
   "execution_count": 72,
   "id": "7a9bd437-1f9d-4562-a12c-4eed586c8387",
   "metadata": {},
   "outputs": [
    {
     "name": "stdout",
     "output_type": "stream",
     "text": [
      "hELLO, wORLD!\n"
     ]
    }
   ],
   "source": [
    "string = \"Hello, World!\"\n",
    "print(string.swapcase())"
   ]
  },
  {
   "cell_type": "markdown",
   "id": "f24c3844-0d9e-4f75-9f0a-344def715e42",
   "metadata": {},
   "source": [
    "<h3 style=\"color: #3CB371; font-weight: bold;\">5.capitalize() :</h3>\n",
    "\n",
    "- **Capitalizes the first character of the string.**\n"
   ]
  },
  {
   "cell_type": "code",
   "execution_count": 7,
   "id": "58d894a0-bfb5-4d59-9184-eee6af73249e",
   "metadata": {},
   "outputs": [
    {
     "name": "stdout",
     "output_type": "stream",
     "text": [
      "Hello, world!\n"
     ]
    }
   ],
   "source": [
    "string = \"hello, world!\"\n",
    "print(string.capitalize())"
   ]
  },
  {
   "cell_type": "markdown",
   "id": "31aa91cd-782c-4485-b16e-5910c542d94d",
   "metadata": {},
   "source": [
    "<h3 style=\"color: #3CB371; font-weight: bold;\">6.title() :</h3>\n",
    "\n",
    "- **Converts the first character of each word to uppercase.**\n"
   ]
  },
  {
   "cell_type": "code",
   "execution_count": 86,
   "id": "c419bdce-1571-4ab6-8bb9-a06f06c770ed",
   "metadata": {},
   "outputs": [
    {
     "name": "stdout",
     "output_type": "stream",
     "text": [
      "Good Morning!\n"
     ]
    }
   ],
   "source": [
    "string = \"gooD morNINg!\"\n",
    "print(string.title())"
   ]
  },
  {
   "cell_type": "markdown",
   "id": "73eff3c9-6bc7-4cc1-af0f-98969f0ee4b5",
   "metadata": {},
   "source": [
    "<h3 style=\"color: #3CB371; font-weight: bold;\">7.strip() :</h3>\n",
    "\n",
    "- **Removes any leading and trailing whitespace.**\n"
   ]
  },
  {
   "cell_type": "code",
   "execution_count": 100,
   "id": "3ed14725-301f-469b-b1d8-addbeb4f94fc",
   "metadata": {},
   "outputs": [
    {
     "name": "stdout",
     "output_type": "stream",
     "text": [
      "Hello, World!\n"
     ]
    }
   ],
   "source": [
    "string = \"  Hello, World!  \"\n",
    "print(string.strip()) "
   ]
  },
  {
   "cell_type": "markdown",
   "id": "b8fc4cb4-f01c-4880-829d-7418ccc95e07",
   "metadata": {},
   "source": [
    "<h3 style=\"color: #3CB371; font-weight: bold;\">8.lstrip() :</h3>\n",
    "\n",
    "- **returns a copy of the string with leading whitespace removed.**\n"
   ]
  },
  {
   "cell_type": "code",
   "execution_count": 105,
   "id": "859cfa3d-e079-4a7a-be56-7d534a19226f",
   "metadata": {},
   "outputs": [
    {
     "name": "stdout",
     "output_type": "stream",
     "text": [
      "Python is easy  \n"
     ]
    }
   ],
   "source": [
    "string=\"  Python is easy  \"\n",
    "print(string.lstrip()) "
   ]
  },
  {
   "cell_type": "markdown",
   "id": "3f0d8165-9b44-44f6-b68e-373ce5e8b36b",
   "metadata": {},
   "source": [
    "<h3 style=\"color: #3CB371; font-weight: bold;\">9.rstrip() :</h3>\n",
    "\n",
    "- **returns a copy of the string with trailing whitespace removed**\n"
   ]
  },
  {
   "cell_type": "code",
   "execution_count": 113,
   "id": "b93be510-a728-4376-a530-2fb9288528dc",
   "metadata": {},
   "outputs": [
    {
     "name": "stdout",
     "output_type": "stream",
     "text": [
      "  Python is easy\n"
     ]
    }
   ],
   "source": [
    "string=\"  Python is easy  \"\n",
    "print(string.rstrip())"
   ]
  },
  {
   "cell_type": "markdown",
   "id": "066037a7-3dcc-4e23-9700-90dc7d11660c",
   "metadata": {},
   "source": [
    "<h3 style=\"color: #3CB371; font-weight: bold;\">10.find() :</h3>\n",
    "\n",
    "- **Returns the index of the first occurrence of a substring.**\n",
    "- **Returns -1 if not found.**\n"
   ]
  },
  {
   "cell_type": "code",
   "execution_count": 119,
   "id": "6e559bd5-c332-45a4-a328-2e74b3949484",
   "metadata": {},
   "outputs": [
    {
     "name": "stdout",
     "output_type": "stream",
     "text": [
      "7\n",
      "-1\n"
     ]
    }
   ],
   "source": [
    "string = \"Hello, World!\"\n",
    "print(string.find(\"World\")) \n",
    "print(string.find(\"Python\"))  "
   ]
  },
  {
   "cell_type": "markdown",
   "id": "b42a0b7d-6f35-4282-9ac4-bf9e26c3c35c",
   "metadata": {},
   "source": [
    "<h3 style=\"color: #3CB371; font-weight: bold;\">11.replace() :</h3>\n",
    "\n",
    "- **Returns the index of the first occurrence of a substring.**\n",
    "- **Replaces a substring with another substring.**\n"
   ]
  },
  {
   "cell_type": "code",
   "execution_count": 125,
   "id": "6afcc34a-1f8d-4f7b-8335-42a85f908143",
   "metadata": {},
   "outputs": [
    {
     "name": "stdout",
     "output_type": "stream",
     "text": [
      "Hello, Python!\n"
     ]
    }
   ],
   "source": [
    "string = \"Hello, World!\"\n",
    "print(string.replace(\"World\", \"Python\"))"
   ]
  },
  {
   "cell_type": "markdown",
   "id": "f797c1b4-c0f5-4990-89f9-c3ceed527990",
   "metadata": {},
   "source": [
    "<h3 style=\"color: #3CB371; font-weight: bold;\">12.split() :</h3>\n",
    "\n",
    "- **Splits a string into a list of substrings based on a delimiter.**\n"
   ]
  },
  {
   "cell_type": "code",
   "execution_count": 132,
   "id": "24f23a2c-8e66-45f8-b2a3-fdcb0a8f92eb",
   "metadata": {},
   "outputs": [
    {
     "name": "stdout",
     "output_type": "stream",
     "text": [
      "['Hello', 'World!']\n"
     ]
    }
   ],
   "source": [
    "string = \"Hello, World!\"\n",
    "print(string.split(\", \"))"
   ]
  },
  {
   "cell_type": "markdown",
   "id": "4978e788-7c66-4add-9c55-966b4f5789f1",
   "metadata": {},
   "source": [
    "<h3 style=\"color: #3CB371; font-weight: bold;\">13.join() :</h3>\n",
    "\n",
    "- **Joins a list of strings into a single string with a specified separator.**\n"
   ]
  },
  {
   "cell_type": "code",
   "execution_count": 71,
   "id": "ff16c716-92fb-414e-9520-4de1bbc371f4",
   "metadata": {},
   "outputs": [
    {
     "name": "stdout",
     "output_type": "stream",
     "text": [
      "Hello,World\n"
     ]
    }
   ],
   "source": [
    "list_of_strings = [\"Hello\", \"World\"]\n",
    "print(\",\".join(list_of_strings))"
   ]
  },
  {
   "cell_type": "markdown",
   "id": "bb8d8adb-a8fc-4be9-99e1-e5a975fa8f53",
   "metadata": {},
   "source": [
    "<h3 style=\"color: #3CB371; font-weight: bold;\">14.index() :</h3>\n",
    "\n",
    "- **Returns the index of the occurence of the string searched for (raises value error if not found**\n"
   ]
  },
  {
   "cell_type": "code",
   "execution_count": 7,
   "id": "cf585104-ec43-4231-b7ed-dae228195166",
   "metadata": {},
   "outputs": [
    {
     "name": "stdout",
     "output_type": "stream",
     "text": [
      "10\n",
      "0\n"
     ]
    }
   ],
   "source": [
    "string= \"Python is easy programming language\"\n",
    "print(string.index('easy'))\n",
    "print(string.index('Python'))"
   ]
  },
  {
   "cell_type": "markdown",
   "id": "229df4aa-b315-43d1-bff2-96c124ec5b4a",
   "metadata": {},
   "source": [
    "<h3 style=\"color: #3CB371; font-weight: bold;\">15.count() :</h3>\n",
    "\n",
    "- **Returns the number of times a substring appears in the string.**"
   ]
  },
  {
   "cell_type": "code",
   "execution_count": 29,
   "id": "d06d3114-31a0-4175-af31-7974b1ba5fec",
   "metadata": {},
   "outputs": [
    {
     "name": "stdout",
     "output_type": "stream",
     "text": [
      "3\n",
      "3\n",
      "1\n"
     ]
    }
   ],
   "source": [
    "string ='Good Morning!!! Have a nice day'\n",
    "print(string.count('a'))\n",
    "print(string.count('o'))\n",
    "print(string.count('G'))"
   ]
  },
  {
   "cell_type": "markdown",
   "id": "f774c2f9-29da-438c-8f91-4494276a914e",
   "metadata": {},
   "source": [
    "<h3 style=\"color: #3CB371; font-weight: bold;\">16.startswith() :</h3>\n",
    "\n",
    "- **Checks if a string starts with a specified substring.**"
   ]
  },
  {
   "cell_type": "code",
   "execution_count": 34,
   "id": "7af80c73-dce3-4e1f-8c0e-c14902113471",
   "metadata": {},
   "outputs": [
    {
     "name": "stdout",
     "output_type": "stream",
     "text": [
      "True\n",
      "False\n"
     ]
    }
   ],
   "source": [
    "string = \"Hello, World!\"\n",
    "print(string.startswith(\"Hello\"))  \n",
    "print(string.startswith(\"World\"))  "
   ]
  },
  {
   "cell_type": "markdown",
   "id": "35f46d96-4134-4908-8bec-6fbd30c7c660",
   "metadata": {},
   "source": [
    "<h3 style=\"color: #3CB371; font-weight: bold;\">17.endswith() :</h3>\n",
    "\n",
    "- **Checks if a string ends with a specified substring.**"
   ]
  },
  {
   "cell_type": "code",
   "execution_count": 38,
   "id": "da40e999-492e-472a-a1a4-d2a50d10876e",
   "metadata": {},
   "outputs": [
    {
     "name": "stdout",
     "output_type": "stream",
     "text": [
      "True\n",
      "False\n"
     ]
    }
   ],
   "source": [
    "string = \"Hi, Good Morning !!!! World!\"\n",
    "print(string.endswith(\"World!\"))  \n",
    "print(string.endswith(\"Hello\")) "
   ]
  },
  {
   "cell_type": "markdown",
   "id": "5bcbd884-b207-4ef8-9489-0b2cf329f188",
   "metadata": {},
   "source": [
    "<h3 style=\"color: #3CB371; font-weight: bold;\">18.isalpha() :</h3>\n",
    "\n",
    "- **Checks if all characters in the string are alphabetic.**"
   ]
  },
  {
   "cell_type": "code",
   "execution_count": 3,
   "id": "571fee97-536c-4d8f-bf58-db972ee541e5",
   "metadata": {},
   "outputs": [
    {
     "name": "stdout",
     "output_type": "stream",
     "text": [
      "True\n"
     ]
    }
   ],
   "source": [
    "string = \"Hello\"\n",
    "print(string.isalpha())  "
   ]
  },
  {
   "cell_type": "code",
   "execution_count": 5,
   "id": "b126c15b-ad83-4a8d-a4ec-65a039e8f6c1",
   "metadata": {},
   "outputs": [
    {
     "name": "stdout",
     "output_type": "stream",
     "text": [
      "False\n"
     ]
    }
   ],
   "source": [
    "string = \"Hello123\"\n",
    "print(string.isalpha())"
   ]
  },
  {
   "cell_type": "markdown",
   "id": "f3bef0b8-7211-4905-ab83-9a647401c5a7",
   "metadata": {},
   "source": [
    "<h3 style=\"color: #3CB371; font-weight: bold;\">19.isdigit() :</h3>\n",
    "\n",
    "- **Checks if all characters in the string are digits.**"
   ]
  },
  {
   "cell_type": "code",
   "execution_count": 11,
   "id": "a5b62394-9148-4c14-9152-46f459f1f800",
   "metadata": {},
   "outputs": [
    {
     "name": "stdout",
     "output_type": "stream",
     "text": [
      "True\n",
      "False\n"
     ]
    }
   ],
   "source": [
    "string = \"12345\"\n",
    "print(string.isdigit())  \n",
    "\n",
    "string = \"123abc\"\n",
    "print(string.isdigit())  "
   ]
  },
  {
   "cell_type": "markdown",
   "id": "234c58cc-4e05-474e-9a87-74200e2714f2",
   "metadata": {},
   "source": [
    "<h3 style=\"color: #3CB371; font-weight: bold;\">20.islower() :</h3>\n",
    "\n",
    "- **Checks if all characters in the string are lowercase.**"
   ]
  },
  {
   "cell_type": "code",
   "execution_count": 21,
   "id": "a0fdb7ac-5a7a-4023-9d65-632f53550b10",
   "metadata": {},
   "outputs": [
    {
     "name": "stdout",
     "output_type": "stream",
     "text": [
      "True\n",
      "False\n"
     ]
    }
   ],
   "source": [
    "string = \"hello\"\n",
    "print(string.islower())\n",
    "\n",
    "new_String=\"Hello\"\n",
    "print(new_String.islower())"
   ]
  },
  {
   "cell_type": "markdown",
   "id": "8be99ea2-15d7-49a5-a9ea-f1de6c5bb9c2",
   "metadata": {},
   "source": [
    "<h3 style=\"color: #3CB371; font-weight: bold;\">21.isupper() :</h3>\n",
    "\n",
    "- **Checks if all characters in the string are uppercase.**"
   ]
  },
  {
   "cell_type": "code",
   "execution_count": 31,
   "id": "d40de72d-5b3b-48bc-be62-f726b5384cc5",
   "metadata": {},
   "outputs": [
    {
     "name": "stdout",
     "output_type": "stream",
     "text": [
      "True\n",
      "False\n"
     ]
    }
   ],
   "source": [
    "string=\"HELLO\"\n",
    "print(string.isupper())\n",
    "\n",
    "new_string= 'hello'\n",
    "print(new_string.isupper())"
   ]
  },
  {
   "cell_type": "markdown",
   "id": "d59c2c3e-d7a7-4709-a30d-cd86bafc4860",
   "metadata": {},
   "source": [
    "<h3 style=\"color: #3CB371; font-weight: bold;\">22.isspace() :</h3>\n",
    "\n",
    "- **Checks if all characters in the string are whitespace.**"
   ]
  },
  {
   "cell_type": "code",
   "execution_count": 36,
   "id": "7d119c17-4f44-4082-8a08-597b2fff69a4",
   "metadata": {},
   "outputs": [
    {
     "name": "stdout",
     "output_type": "stream",
     "text": [
      "True\n",
      "False\n"
     ]
    }
   ],
   "source": [
    "string = \"   \"\n",
    "print(string.isspace())  \n",
    "\n",
    "string = \"Hello\"\n",
    "print(string.isspace())  "
   ]
  },
  {
   "cell_type": "markdown",
   "id": "f8b92c2d-6963-4ad0-942c-15674c735dc6",
   "metadata": {},
   "source": [
    "<h3 style=\"color: #3CB371; font-weight: bold;\">23.istitle() :</h3>\n",
    "\n",
    "- **Checks whether string is in title case.**"
   ]
  },
  {
   "cell_type": "code",
   "execution_count": 43,
   "id": "18093069-7263-4788-b14b-7d13526769e7",
   "metadata": {},
   "outputs": [
    {
     "name": "stdout",
     "output_type": "stream",
     "text": [
      "True\n",
      "False\n"
     ]
    }
   ],
   "source": [
    "string= \"Hello World\"\n",
    "print(string.istitle())\n",
    "\n",
    "new_string= \"hello\"\n",
    "print(new_string.istitle())"
   ]
  },
  {
   "cell_type": "markdown",
   "id": "a3488ff6-aebe-4fb2-a364-49387e8909b1",
   "metadata": {},
   "source": [
    "<h3 style=\"color: #3CB371; font-weight: bold;\">24.removeprefix() :</h3>\n",
    "\n",
    "- **returns a string with the given prefix string removed if present**"
   ]
  },
  {
   "cell_type": "code",
   "execution_count": 50,
   "id": "a15a41d6-23aa-49b6-907d-fc637a7de0d6",
   "metadata": {},
   "outputs": [
    {
     "name": "stdout",
     "output_type": "stream",
     "text": [
      "thon is easy Programming language\n"
     ]
    }
   ],
   "source": [
    "string= \"Python is easy Programming language\"\n",
    "print(string.removeprefix(\"Py\"))"
   ]
  },
  {
   "cell_type": "markdown",
   "id": "f0ec60bb-9e62-42f0-82ca-e1e8922ad6d6",
   "metadata": {},
   "source": [
    "<h3 style=\"color: #3CB371; font-weight: bold;\">25.removesuffix() :</h3>\n",
    "\n",
    "- **returns a string with the given suffix string removed if present**"
   ]
  },
  {
   "cell_type": "code",
   "execution_count": 55,
   "id": "f19791a8-98b7-45dc-89f9-2c61c252b108",
   "metadata": {},
   "outputs": [
    {
     "name": "stdout",
     "output_type": "stream",
     "text": [
      "Pyth\n"
     ]
    }
   ],
   "source": [
    "string=\"Python\"\n",
    "print(string.removesuffix(\"on\"))"
   ]
  },
  {
   "cell_type": "code",
   "execution_count": null,
   "id": "7e8ce27d-3055-4482-a3fb-bb95ae0900fd",
   "metadata": {},
   "outputs": [],
   "source": []
  },
  {
   "cell_type": "markdown",
   "id": "7607a8a4-e029-42a4-b006-f165a3464da7",
   "metadata": {},
   "source": [
    "**Note:** \n",
    "- Strings are immutable. This means that elements of a string cannot be changed once it can assigned.\n",
    "- We can simply reassign different strings to the same name\n"
   ]
  },
  {
   "cell_type": "code",
   "execution_count": 69,
   "id": "ff2153c6-c079-4588-9fb0-6b56b24b43c3",
   "metadata": {},
   "outputs": [
    {
     "ename": "TypeError",
     "evalue": "'str' object does not support item assignment",
     "output_type": "error",
     "traceback": [
      "\u001b[1;31m---------------------------------------------------------------------------\u001b[0m",
      "\u001b[1;31mTypeError\u001b[0m                                 Traceback (most recent call last)",
      "Cell \u001b[1;32mIn[69], line 2\u001b[0m\n\u001b[0;32m      1\u001b[0m String \u001b[38;5;241m=\u001b[39m \u001b[38;5;124m\"\u001b[39m\u001b[38;5;124mHello\u001b[39m\u001b[38;5;124m\"\u001b[39m\n\u001b[1;32m----> 2\u001b[0m String[\u001b[38;5;241m4\u001b[39m]\u001b[38;5;241m=\u001b[39m\u001b[38;5;124m'\u001b[39m\u001b[38;5;124ms\u001b[39m\u001b[38;5;124m'\u001b[39m\n",
      "\u001b[1;31mTypeError\u001b[0m: 'str' object does not support item assignment"
     ]
    }
   ],
   "source": [
    "String = \"Hello\"\n",
    "String[4]='s' # Strings are immutable"
   ]
  },
  {
   "cell_type": "code",
   "execution_count": null,
   "id": "5bab7c63-0423-4d62-a4b8-2cb1c9aaae0c",
   "metadata": {},
   "outputs": [],
   "source": []
  },
  {
   "cell_type": "markdown",
   "id": "739dbc3d-9673-4761-8185-56ea451a3589",
   "metadata": {},
   "source": [
    "<h3 style=\"color: #3CB371; font-weight: bold;\">26.zfill() :</h3>\n",
    "\n",
    "- **Pads the string on the left with zeros to fill a specified width.**"
   ]
  },
  {
   "cell_type": "code",
   "execution_count": 78,
   "id": "6eeb039d-ffbe-4997-8a49-a0ea8af6cd15",
   "metadata": {},
   "outputs": [
    {
     "name": "stdout",
     "output_type": "stream",
     "text": [
      "0000000042\n"
     ]
    }
   ],
   "source": [
    "string = \"42\"\n",
    "print(string.zfill(10))"
   ]
  },
  {
   "cell_type": "code",
   "execution_count": 156,
   "id": "ab56c01f-ed55-4a04-825d-bda650739b54",
   "metadata": {},
   "outputs": [
    {
     "name": "stdout",
     "output_type": "stream",
     "text": [
      "   Hello    \n",
      "---Hello---\n"
     ]
    }
   ],
   "source": [
    "string = \"Hello\"\n",
    "print(string.center(12)) \n",
    "print(string.center(11, '-')) "
   ]
  },
  {
   "cell_type": "markdown",
   "id": "5e802a1e-6633-4f78-8786-cb63aadd40d2",
   "metadata": {},
   "source": [
    "<h3 style=\"color: #3CB371; font-weight: bold;\">28.ljust() :</h3>\n",
    "\n",
    "- **Left-justifies the string within a specified width, padding with spaces (or a specified character).**"
   ]
  },
  {
   "cell_type": "code",
   "execution_count": 169,
   "id": "0ae21ee4-25c7-4263-8430-8aa31ec154c5",
   "metadata": {},
   "outputs": [
    {
     "name": "stdout",
     "output_type": "stream",
     "text": [
      "Hello     \n",
      "Hello-----\n"
     ]
    }
   ],
   "source": [
    "string = \"Hello\"\n",
    "print(string.ljust(10))  # Output: \"Hello     \"\n",
    "print(string.ljust(10, '-'))  # Output: \"Hello-----\""
   ]
  },
  {
   "cell_type": "markdown",
   "id": "2fd23c0b-c16f-4a57-9f43-856142bff2ac",
   "metadata": {},
   "source": [
    "<h3 style=\"color: #3CB371; font-weight: bold;\">29.rjust() :</h3>\n",
    "\n",
    "- **Right-justifies the string within a specified width, padding with spaces (or a specified character).**"
   ]
  },
  {
   "cell_type": "code",
   "execution_count": 174,
   "id": "1df5960b-5a6b-4f53-a668-70db1b094a99",
   "metadata": {},
   "outputs": [
    {
     "name": "stdout",
     "output_type": "stream",
     "text": [
      "     Hello\n",
      "-----Hello\n"
     ]
    }
   ],
   "source": [
    "string = \"Hello\"\n",
    "print(string.rjust(10)) \n",
    "print(string.rjust(10, '-')) "
   ]
  },
  {
   "cell_type": "markdown",
   "id": "f6760316-82cb-4adf-b8be-f3b2af9494b1",
   "metadata": {},
   "source": [
    "<h3 style=\"color: #3CB371; font-weight: bold;\">30.rfind() :</h3>\n",
    "\n",
    "- **Returns the highest index of the substring. Returns -1 if not found.**"
   ]
  },
  {
   "cell_type": "code",
   "execution_count": 181,
   "id": "9d3f78d6-c1b7-4540-b6c5-bc283a1bb92c",
   "metadata": {},
   "outputs": [
    {
     "name": "stdout",
     "output_type": "stream",
     "text": [
      "7\n",
      "-1\n"
     ]
    }
   ],
   "source": [
    "string = \"Hello, World, again!\"\n",
    "print(string.rfind(\"World\"))\n",
    "print(string.rfind(\"Python\"))  "
   ]
  },
  {
   "cell_type": "markdown",
   "id": "49cfcced-20cd-45d9-aa17-eec1bfe86cfd",
   "metadata": {},
   "source": [
    "<h3 style=\"color: #3CB371; font-weight: bold;\">31.rindex() :</h3>\n",
    "\n",
    "- **Returns the highest index of the substring.**\n",
    "- **Raises a ValueError if not found.**"
   ]
  },
  {
   "cell_type": "code",
   "execution_count": 193,
   "id": "999da7b1-98c1-409f-8306-3eeaccdb802e",
   "metadata": {},
   "outputs": [
    {
     "name": "stdout",
     "output_type": "stream",
     "text": [
      "7\n"
     ]
    }
   ],
   "source": [
    "string = \"Hello, World, again!\"\n",
    "print(string.rindex(\"World\"))  # Output: 7"
   ]
  },
  {
   "cell_type": "code",
   "execution_count": 191,
   "id": "66b50fc7-9afe-4b35-a679-839132f2dfaf",
   "metadata": {},
   "outputs": [
    {
     "ename": "ValueError",
     "evalue": "substring not found",
     "output_type": "error",
     "traceback": [
      "\u001b[1;31m---------------------------------------------------------------------------\u001b[0m",
      "\u001b[1;31mValueError\u001b[0m                                Traceback (most recent call last)",
      "Cell \u001b[1;32mIn[191], line 1\u001b[0m\n\u001b[1;32m----> 1\u001b[0m \u001b[38;5;28mprint\u001b[39m(string\u001b[38;5;241m.\u001b[39mrindex(\u001b[38;5;124m\"\u001b[39m\u001b[38;5;124mPython\u001b[39m\u001b[38;5;124m\"\u001b[39m))\n",
      "\u001b[1;31mValueError\u001b[0m: substring not found"
     ]
    }
   ],
   "source": [
    "print(string.rindex(\"Python\"))  # Raises ValueError"
   ]
  },
  {
   "cell_type": "markdown",
   "id": "22a352bf-fb4f-4878-a15a-295af6a7832d",
   "metadata": {},
   "source": [
    "<h3 style=\"color: #3CB371; font-weight: bold;\">32.partitiont() :</h3>\n",
    "\n",
    "- **Splits the string into three parts: the part before the separator, the separator itself, and the part after the separator.**"
   ]
  },
  {
   "cell_type": "code",
   "execution_count": 177,
   "id": "d65bc6e1-d5d4-4b08-b91e-adaab6d6412e",
   "metadata": {},
   "outputs": [
    {
     "name": "stdout",
     "output_type": "stream",
     "text": [
      "('Hello', ', ', 'World!')\n"
     ]
    }
   ],
   "source": [
    "string = \"Hello, World!\"\n",
    "print(string.partition(\", \"))"
   ]
  },
  {
   "cell_type": "markdown",
   "id": "bafda2e5-06cf-444d-821e-f6079e58b1f9",
   "metadata": {},
   "source": [
    "<h3 style=\"color: #3CB371; font-weight: bold;\">33.splitlines() :</h3>\n",
    "\n",
    "- **Splits the string at line breaks and returns a list of lines.**"
   ]
  },
  {
   "cell_type": "code",
   "execution_count": 198,
   "id": "b1f9d4b8-3ebb-4662-a290-0e483809a48b",
   "metadata": {},
   "outputs": [
    {
     "name": "stdout",
     "output_type": "stream",
     "text": [
      "['Hello', 'World', 'Python']\n"
     ]
    }
   ],
   "source": [
    "string = \"Hello\\nWorld\\nPython\"\n",
    "print(string.splitlines())"
   ]
  },
  {
   "cell_type": "markdown",
   "id": "bbf2223b-586e-4e76-85be-aed18deba4d9",
   "metadata": {},
   "source": [
    "<h3 style=\"color: #3CB371; font-weight: bold;\">34.expandtabs() :</h3>\n",
    "\n",
    "- **Expands tabs in a string to spaces. The default tab size is 8 spaces.**"
   ]
  },
  {
   "cell_type": "code",
   "execution_count": 201,
   "id": "02569425-76b8-4551-893c-bba08705d41f",
   "metadata": {},
   "outputs": [
    {
     "name": "stdout",
     "output_type": "stream",
     "text": [
      "Hello   World\n",
      "Hello   World\n"
     ]
    }
   ],
   "source": [
    "string = \"Hello\\tWorld\"\n",
    "print(string.expandtabs())\n",
    "print(string.expandtabs(4))"
   ]
  },
  {
   "cell_type": "code",
   "execution_count": null,
   "id": "e11d554f-fbbc-4ef3-805d-28428c3c8f3a",
   "metadata": {},
   "outputs": [],
   "source": []
  }
 ],
 "metadata": {
  "kernelspec": {
   "display_name": "Python 3 (ipykernel)",
   "language": "python",
   "name": "python3"
  },
  "language_info": {
   "codemirror_mode": {
    "name": "ipython",
    "version": 3
   },
   "file_extension": ".py",
   "mimetype": "text/x-python",
   "name": "python",
   "nbconvert_exporter": "python",
   "pygments_lexer": "ipython3",
   "version": "3.11.7"
  }
 },
 "nbformat": 4,
 "nbformat_minor": 5
}
