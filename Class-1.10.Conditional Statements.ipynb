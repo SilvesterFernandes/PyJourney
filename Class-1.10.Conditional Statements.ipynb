{
 "cells": [
  {
   "cell_type": "markdown",
   "id": "78108d96-56a0-4d83-9082-3cf3349b3ae1",
   "metadata": {},
   "source": [
    "______________________________________________________________________________________________________________________\n",
    "# **Conditional Statements**\n",
    "**Day & Date:**\n",
    "_____________________________________________________________________________________________________________________"
   ]
  },
  {
   "cell_type": "code",
   "execution_count": null,
   "id": "8e7813f1-9236-45a8-a003-88d985c5c9dd",
   "metadata": {},
   "outputs": [],
   "source": []
  },
  {
   "cell_type": "code",
   "execution_count": null,
   "id": "e0fad2eb-2b44-4d7a-82e4-a249a8557674",
   "metadata": {},
   "outputs": [],
   "source": []
  },
  {
   "cell_type": "code",
   "execution_count": null,
   "id": "c8519bc1-4fe4-40d4-b854-6a1f92cac7e7",
   "metadata": {},
   "outputs": [],
   "source": []
  }
 ],
 "metadata": {
  "kernelspec": {
   "display_name": "Python 3 (ipykernel)",
   "language": "python",
   "name": "python3"
  },
  "language_info": {
   "name": ""
  }
 },
 "nbformat": 4,
 "nbformat_minor": 5
}
