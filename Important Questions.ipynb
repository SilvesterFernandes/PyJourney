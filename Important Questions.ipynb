{
 "cells": [
  {
   "cell_type": "markdown",
   "id": "b026a5ab-642e-4a91-bace-ae466b62c7cf",
   "metadata": {},
   "source": [
    "_____________________________________________________________________________________________________________________\n",
    "# **Important Questions :**\n",
    "\n",
    "___________________________________________________________________________________________________________________"
   ]
  },
  {
   "cell_type": "markdown",
   "id": "374d146b-28d3-4b99-a70f-c525c32e0604",
   "metadata": {},
   "source": [
    "### **Q.1. Difference Between Compiler Interpretator**\n",
    "\n",
    "\n",
    "|SN.|Interpreter|Compiler|\n",
    "|--|---------------------------------------------------|------------------------------------------------------|\n",
    "|1.|Executes Program by taking **one statement** at a time |Transalte the **entire program** at once into machine code|\n",
    "|2.|Error is reported as soon as the **first error is encounterd**. Won't show the next set of errors if the existing one isn't solved | Errors are reported after the **Entire Program is Checked**|\n",
    "|3.|**Easier** to debug | **Difficult** to Debug|\n",
    "|4.|**No intermediate object code** is generated, Hence **Memory efficient** | **Generates Intermediate object code** which further requires linking, Hence **Requires More Memory**\n",
    "|5.|**Execution is Slower** |**Execution is Faster**"
   ]
  },
  {
   "cell_type": "markdown",
   "id": "80079ae6-a894-42a0-be8b-2dc7fb32e6c0",
   "metadata": {},
   "source": [
    "_____________________________________________________________________________________________________________________"
   ]
  },
  {
   "cell_type": "markdown",
   "id": "7cdad62b-7734-4f73-af81-006d79b94e5e",
   "metadata": {},
   "source": [
    "### **Q.2. Difference Between List,Tuple,Set,Dictionary**\n",
    "\n",
    "\n",
    "\n",
    "|No.|List|Tuple|Set|Dictionary|\n",
    "|---|----|-----|---|----------|\n",
    "|1.|Empty List [] | Empty Tuple () | Empty Set Set() | Empty Dict {}|\n",
    "|1.|Individual items|Individual items|Individual items|Key Value Pair|Z\n",
    "|2.|"
   ]
  },
  {
   "cell_type": "code",
   "execution_count": null,
   "id": "3ff9b739-f5fe-4ff8-b62a-8eb4a5fe9288",
   "metadata": {},
   "outputs": [],
   "source": []
  }
 ],
 "metadata": {
  "kernelspec": {
   "display_name": "Python 3 (ipykernel)",
   "language": "python",
   "name": "python3"
  },
  "language_info": {
   "codemirror_mode": {
    "name": "ipython",
    "version": 3
   },
   "file_extension": ".py",
   "mimetype": "text/x-python",
   "name": "python",
   "nbconvert_exporter": "python",
   "pygments_lexer": "ipython3",
   "version": "3.11.7"
  }
 },
 "nbformat": 4,
 "nbformat_minor": 5
}
