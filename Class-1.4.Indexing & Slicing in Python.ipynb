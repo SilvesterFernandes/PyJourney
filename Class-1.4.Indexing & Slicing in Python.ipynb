{
 "cells": [
  {
   "cell_type": "markdown",
   "id": "3f8aaa0d-4b16-4815-81b0-dd469101d269",
   "metadata": {},
   "source": [
    "________________________________________________________________________________________\n",
    "# **Class- 1.4. :: Indexing & Slicing in Python**\n",
    "**Day & Date:**\n",
    "________________________________________________________________________________________"
   ]
  },
  {
   "cell_type": "markdown",
   "id": "70e88ff7-76e4-4da0-a193-690e5aa32465",
   "metadata": {},
   "source": [
    "## **Indexing :**\n",
    "- Indexing is used to access individual elements in a sequence like a string, list, or tuple.\n",
    "- Strings can be indexed - often synonymously called subscripted as well.\n",
    "- Python supports **both Positive Indexing (+Ve or Forward Indexing i.e. Forward Direction) & Negative Indexing (-Ve or Reverse Indexing i.e.Backward Direction)**\n",
    "- **Note:** **The First character of a string has index 0**\n",
    "__________________________________________________________________________________________________________________________________________________________"
   ]
  },
  {
   "cell_type": "code",
   "execution_count": 20,
   "id": "5c07b0ef-acc6-4304-8196-9a87ab659871",
   "metadata": {},
   "outputs": [
    {
     "name": "stdout",
     "output_type": "stream",
     "text": [
      "Hello World\n"
     ]
    }
   ],
   "source": [
    "s= \"Hello World\"\n",
    "print(String)"
   ]
  },
  {
   "cell_type": "markdown",
   "id": "5d7e4e79-902e-4617-8797-7b48bdaf9254",
   "metadata": {},
   "source": [
    "**Example :**  (\"Hello World\")\n",
    "- The First Character of a String has index 0.\n",
    "- The Last Character of a String has index -1 or [len(string)-1]\n",
    "\n",
    "\n",
    "**Syntax:**\n",
    "-  Positive Indexing : string[index]\n",
    "- Negative Indexing  : string[-index]\n",
    "\n",
    "|Direction|H|e|l|l|o| |W|o|r|l|d|\n",
    "|-|-|-|-|-|-|-|-|-|-|-|-|\n",
    "|Forward|0|1|2|3|4|5|6|7|8|9|10||\n",
    "|Backward|-11|-10|-9|-8|-7|-6|-5|-4|-3|-2|-1||xt-align:center\">-1</td>\r\n",
    "  </tr>\r\n",
    "</table>\r\n"
   ]
  },
  {
   "cell_type": "markdown",
   "id": "2bca37ae-e2e8-4f65-9b4a-59936290d3fd",
   "metadata": {},
   "source": [
    "**Positive indexing :**"
   ]
  },
  {
   "cell_type": "code",
   "execution_count": 22,
   "id": "06cccb7c-77ee-4100-a6c9-ab6042e86f3d",
   "metadata": {},
   "outputs": [
    {
     "name": "stdout",
     "output_type": "stream",
     "text": [
      "H\n",
      "e\n",
      "W\n",
      "r\n"
     ]
    }
   ],
   "source": [
    "print(s[0])   # Output: 'H'\n",
    "\n",
    "print(s[1])   # Output: 'e'\n",
    "\n",
    "print(s[6])   # Output: 'W'\n",
    "\n",
    "print(s[8])   # Output: 'r'"
   ]
  },
  {
   "cell_type": "markdown",
   "id": "34819407-a0f1-47cb-ab76-7b59955e02bc",
   "metadata": {},
   "source": [
    "_________________________________________________________________________________________________________________________________________________________"
   ]
  },
  {
   "cell_type": "markdown",
   "id": "a48a25df-2dae-4abf-a396-892a39ce2dde",
   "metadata": {},
   "source": [
    "**Negative indexing :**"
   ]
  },
  {
   "cell_type": "code",
   "execution_count": 24,
   "id": "f505f9b8-d6fc-4ada-8388-3dad5d08aa53",
   "metadata": {},
   "outputs": [
    {
     "name": "stdout",
     "output_type": "stream",
     "text": [
      "d\n",
      "d\n"
     ]
    }
   ],
   "source": [
    "#Last Character\n",
    "\n",
    "print(s[-1])  # Output: 'd'\n",
    "\n",
    "# OR\n",
    "\n",
    "print(s[len(s)-1])"
   ]
  },
  {
   "cell_type": "code",
   "execution_count": 26,
   "id": "679cddd2-a096-40a8-8a60-1502f7841594",
   "metadata": {},
   "outputs": [
    {
     "name": "stdout",
     "output_type": "stream",
     "text": [
      "l\n",
      "o\n",
      " \n"
     ]
    }
   ],
   "source": [
    "# Using Negative Indexing\n",
    "\n",
    "print(s[-2])  # Output: 'l'\n",
    "\n",
    "print(s[-4])  # Output: 'o'\n",
    "\n",
    "print(s[-6])  # Output: ' ' is Space also calculated in String Indexing"
   ]
  },
  {
   "cell_type": "markdown",
   "id": "2d5caa76-1104-4559-ad5c-ffb77aa8984f",
   "metadata": {},
   "source": [
    "_____________________________________________________________________________________________________________"
   ]
  },
  {
   "cell_type": "code",
   "execution_count": null,
   "id": "582b6394-370f-4857-b68b-2a852a38ef2c",
   "metadata": {},
   "outputs": [],
   "source": [
    "print(s[-15])  # If we try to access index out of range then we will get index error"
   ]
  },
  {
   "cell_type": "markdown",
   "id": "48756d94-030f-4507-8690-12bcdde22b0b",
   "metadata": {},
   "source": [
    "_______________________________________________________________________________________________________________________________________________________"
   ]
  },
  {
   "cell_type": "markdown",
   "id": "35405c4e-3fd8-4c59-b7d2-5fd171cdf8af",
   "metadata": {},
   "source": [
    "## **Slicing :**\n",
    "- **general syntax : [start:end:step]**\n",
    "\n",
    "where:\n",
    "- start  : The starting index (inclusive). Default is 0.\n",
    "- end    : The ending index (exclusive). Default is the length of the string.\n",
    "- step   : The step size or stride. Default is +1.  Steps can be either Positive (+ve) or Negative (-ve)"
   ]
  },
  {
   "cell_type": "code",
   "execution_count": 28,
   "id": "349854b3-56cf-4af1-8291-0d6d36fb206e",
   "metadata": {},
   "outputs": [
    {
     "name": "stdout",
     "output_type": "stream",
     "text": [
      "Hello_World!\n"
     ]
    }
   ],
   "source": [
    "My_String = \"Hello_World!\"\n",
    "print(My_String)"
   ]
  },
  {
   "cell_type": "markdown",
   "id": "c4ed335b-4291-4cea-b894-2da940abaab8",
   "metadata": {},
   "source": [
    "**Basic Slicing :**"
   ]
  },
  {
   "cell_type": "code",
   "execution_count": 30,
   "id": "b077d525-8550-4312-95ef-6d9653e7cbd8",
   "metadata": {},
   "outputs": [
    {
     "name": "stdout",
     "output_type": "stream",
     "text": [
      "Hel\n"
     ]
    }
   ],
   "source": [
    "print(My_String[0:3])"
   ]
  },
  {
   "cell_type": "code",
   "execution_count": null,
   "id": "c79edaf3-6630-4e91-beda-a5045c504f7e",
   "metadata": {},
   "outputs": [],
   "source": []
  },
  {
   "cell_type": "markdown",
   "id": "75e66333-7eb4-430c-8dd4-55aab511be3f",
   "metadata": {},
   "source": [
    "**Slicing with steps**"
   ]
  },
  {
   "cell_type": "code",
   "execution_count": 32,
   "id": "7f351c13-af13-4d08-88f8-bcdb32305944",
   "metadata": {},
   "outputs": [
    {
     "name": "stdout",
     "output_type": "stream",
     "text": [
      "Hell\n"
     ]
    }
   ],
   "source": [
    "#Positive Steps\n",
    "print(My_String[0:4:1])"
   ]
  },
  {
   "cell_type": "code",
   "execution_count": null,
   "id": "2ef94084-0359-46e5-a92a-12924c1c5589",
   "metadata": {},
   "outputs": [],
   "source": []
  },
  {
   "cell_type": "code",
   "execution_count": 34,
   "id": "cf66ea3c-acaf-41b9-8f95-4d07f5c51c2d",
   "metadata": {},
   "outputs": [
    {
     "name": "stdout",
     "output_type": "stream",
     "text": [
      "!dlro\n"
     ]
    }
   ],
   "source": [
    "# Slicing with negative step and specific range\n",
    "print(My_String[12:6:-1])"
   ]
  },
  {
   "cell_type": "code",
   "execution_count": null,
   "id": "a28c4851-ff88-4a0a-b3ae-871050cf436d",
   "metadata": {},
   "outputs": [],
   "source": []
  },
  {
   "cell_type": "code",
   "execution_count": 36,
   "id": "703bbbb3-12cc-4bb4-8978-9e48751ba0ed",
   "metadata": {},
   "outputs": [
    {
     "name": "stdout",
     "output_type": "stream",
     "text": [
      "!dlroW_olleH\n"
     ]
    }
   ],
   "source": [
    "# Slicing in reverse\n",
    "print(My_String[::-1])"
   ]
  },
  {
   "cell_type": "code",
   "execution_count": null,
   "id": "2b419ef7-58ee-400d-91d7-1d8d3cd83204",
   "metadata": {},
   "outputs": [],
   "source": []
  },
  {
   "cell_type": "markdown",
   "id": "3ec39f6e-126b-475e-952f-0088202c0e61",
   "metadata": {},
   "source": [
    "**Slicing with steps and omitting start/stop**"
   ]
  },
  {
   "cell_type": "code",
   "execution_count": 38,
   "id": "74b0a722-3c8c-4738-9831-2144aa239ed0",
   "metadata": {},
   "outputs": [
    {
     "name": "stdout",
     "output_type": "stream",
     "text": [
      "HloWrd\n"
     ]
    }
   ],
   "source": [
    "print(My_String[::2])"
   ]
  },
  {
   "cell_type": "markdown",
   "id": "c45cddad-005e-41c1-b4db-f394aa911a1f",
   "metadata": {},
   "source": [
    "_________________________________________________________________________________________________________________"
   ]
  },
  {
   "cell_type": "markdown",
   "id": "3c751bd2-47f4-4b02-b1f9-0b76b06bbe36",
   "metadata": {},
   "source": [
    "**Omitting Indices :**\n",
    "- You can omit the start or stop index to use the defaults.\n",
    "- Omitting start starts from the beginning, and omitting stop goes to the end."
   ]
  },
  {
   "cell_type": "code",
   "execution_count": 40,
   "id": "4753481a-932f-4aec-9f06-83659d5fbde0",
   "metadata": {},
   "outputs": [
    {
     "name": "stdout",
     "output_type": "stream",
     "text": [
      "Hello\n"
     ]
    }
   ],
   "source": [
    "# Omitting start index\n",
    "print(My_String[:5])"
   ]
  },
  {
   "cell_type": "code",
   "execution_count": 42,
   "id": "64ca9b1b-bfd8-4495-b8a3-8101ae5c8007",
   "metadata": {},
   "outputs": [
    {
     "name": "stdout",
     "output_type": "stream",
     "text": [
      "llo_World!\n"
     ]
    }
   ],
   "source": [
    "# Omitting stop index\n",
    "print(My_String[2:])"
   ]
  },
  {
   "cell_type": "code",
   "execution_count": 44,
   "id": "bc839479-5224-4de1-9d7b-2fc932893717",
   "metadata": {},
   "outputs": [
    {
     "name": "stdout",
     "output_type": "stream",
     "text": [
      "Hello_World!\n"
     ]
    }
   ],
   "source": [
    "# Omitting both start and stop indices\n",
    "print(My_String[:])"
   ]
  },
  {
   "cell_type": "markdown",
   "id": "12fa0aee-d292-4e81-aa2c-9901dcb6b443",
   "metadata": {},
   "source": [
    "____________________________________________________________________________________________________________________"
   ]
  },
  {
   "cell_type": "markdown",
   "id": "65242091-1826-4565-bd6a-b283e66b3828",
   "metadata": {},
   "source": [
    "**Some Other Ways to Indexing :**"
   ]
  },
  {
   "cell_type": "markdown",
   "id": "3a61b081-0629-47f4-a8be-effc8065463e",
   "metadata": {},
   "source": [
    "**Negative Indexing:**\n",
    "    Negative indices allow you to slice from the end of the string."
   ]
  },
  {
   "cell_type": "code",
   "execution_count": 46,
   "id": "9aa01c8a-bb1d-4aee-a651-d45fc367e516",
   "metadata": {},
   "outputs": [
    {
     "name": "stdout",
     "output_type": "stream",
     "text": [
      "World\n"
     ]
    }
   ],
   "source": [
    "# Using negative indices\n",
    "print(My_String[-6:-1])"
   ]
  },
  {
   "cell_type": "code",
   "execution_count": 48,
   "id": "4e7fa37b-bd67-4ecb-9842-8bd543ea3e63",
   "metadata": {},
   "outputs": [
    {
     "name": "stdout",
     "output_type": "stream",
     "text": [
      "World!\n"
     ]
    }
   ],
   "source": [
    "# Combining negative and positive indices\n",
    "print(My_String[-6:12])"
   ]
  },
  {
   "cell_type": "markdown",
   "id": "c6bcc55f-7b53-4008-92dd-7407530c0577",
   "metadata": {},
   "source": [
    "___________________________________________________________________________________________________________________"
   ]
  },
  {
   "cell_type": "markdown",
   "id": "197213ed-8fb4-440c-8f6e-de64c21fb632",
   "metadata": {},
   "source": [
    "## **Slicing a Substring**"
   ]
  },
  {
   "cell_type": "code",
   "execution_count": 50,
   "id": "f4a75fdb-021e-4325-9bc9-beb0ee07903a",
   "metadata": {},
   "outputs": [
    {
     "name": "stdout",
     "output_type": "stream",
     "text": [
      "Hello\n"
     ]
    }
   ],
   "source": [
    "# Extracting 'Hello' using positive indices\n",
    "hello = My_String[0:5]\n",
    "print(hello)  # Extracting 'Hello'"
   ]
  },
  {
   "cell_type": "code",
   "execution_count": null,
   "id": "50f6cb3f-3dfd-4a15-aad1-b13d8fae4846",
   "metadata": {},
   "outputs": [],
   "source": []
  },
  {
   "cell_type": "code",
   "execution_count": 52,
   "id": "c4e11d8b-aa6d-4333-81c0-18f60b15da49",
   "metadata": {},
   "outputs": [
    {
     "name": "stdout",
     "output_type": "stream",
     "text": [
      "World\n"
     ]
    }
   ],
   "source": [
    "# Extracting 'World' using negative indices\n",
    "world = My_String[-6:-1]\n",
    "print(world)  # Extracting 'World'"
   ]
  },
  {
   "cell_type": "code",
   "execution_count": null,
   "id": "53e952ea-d08c-4a2e-97dc-796a4233e166",
   "metadata": {},
   "outputs": [],
   "source": []
  },
  {
   "cell_type": "code",
   "execution_count": 54,
   "id": "17991c65-8312-4806-9762-5fac0ae34d08",
   "metadata": {},
   "outputs": [
    {
     "name": "stdout",
     "output_type": "stream",
     "text": [
      "orld\n"
     ]
    }
   ],
   "source": [
    "# Extracting 'World' with combined positive and negative indices\n",
    "world_combined = My_String[7:-1]\n",
    "print(world_combined)  # Extracting 'World'"
   ]
  },
  {
   "cell_type": "code",
   "execution_count": null,
   "id": "f13e8ce5-d14e-4ce3-984e-77f244584a32",
   "metadata": {},
   "outputs": [],
   "source": []
  },
  {
   "cell_type": "code",
   "execution_count": 56,
   "id": "a89787c7-e075-44bb-9613-80eafaec5284",
   "metadata": {},
   "outputs": [
    {
     "name": "stdout",
     "output_type": "stream",
     "text": [
      "olleH\n"
     ]
    }
   ],
   "source": [
    "# Reversing 'Hello'\n",
    "reverse_hello = My_String[4::-1]\n",
    "print(reverse_hello)  # Reversing 'Hello'"
   ]
  },
  {
   "cell_type": "code",
   "execution_count": null,
   "id": "e8348815-9e6e-4f88-84ed-9946cdef7d68",
   "metadata": {},
   "outputs": [],
   "source": []
  },
  {
   "cell_type": "code",
   "execution_count": 58,
   "id": "bba29868-2bc9-4a93-ac05-1a43ee585bab",
   "metadata": {},
   "outputs": [
    {
     "name": "stdout",
     "output_type": "stream",
     "text": [
      "HlWl\n"
     ]
    }
   ],
   "source": [
    "# Skipping characters in 'Hello_World!'\n",
    "skip_string = My_String[::3]\n",
    "print(skip_string)  # Skipping characters"
   ]
  },
  {
   "cell_type": "code",
   "execution_count": null,
   "id": "1914ebe2-5cd3-44fb-98da-9cf584121a8a",
   "metadata": {},
   "outputs": [],
   "source": []
  }
 ],
 "metadata": {
  "kernelspec": {
   "display_name": "Python 3 (ipykernel)",
   "language": "python",
   "name": "python3"
  },
  "language_info": {
   "codemirror_mode": {
    "name": "ipython",
    "version": 3
   },
   "file_extension": ".py",
   "mimetype": "text/x-python",
   "name": "python",
   "nbconvert_exporter": "python",
   "pygments_lexer": "ipython3",
   "version": "3.11.7"
  }
 },
 "nbformat": 4,
 "nbformat_minor": 5
}
