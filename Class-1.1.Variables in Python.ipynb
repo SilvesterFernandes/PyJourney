{
 "cells": [
  {
   "cell_type": "markdown",
   "id": "d871b31e-cb8f-4183-86bd-221a00083aed",
   "metadata": {},
   "source": [
    "# Class - 1.1 ::  Variables\n",
    "**Day & Date : 1 June 2024**"
   ]
  },
  {
   "cell_type": "markdown",
   "id": "3809b52d-0d20-4456-bf9f-3cd7b955357a",
   "metadata": {},
   "source": [
    "______________________________________________________________________________________________________________"
   ]
  },
  {
   "cell_type": "markdown",
   "id": "6a291618-9855-4880-a05a-a6227f9fac63",
   "metadata": {},
   "source": [
    "## Comments\n",
    "- Comments can be used to explain Python Code\n",
    "\n",
    "- Comments can be used  make the code more readable\n",
    "\n",
    "- Comments are ignored during execution ( not Consideing while executing the code)\n",
    "\n",
    "- Single line comments  starts with #, and python will ignore them\n",
    "\n",
    "- Multi- Line Comments starts with  \"\"\" and ends with \"\"\"\n",
    "              \n"
   ]
  },
  {
   "cell_type": "markdown",
   "id": "5ffad484-ead6-45d1-b218-14f224819053",
   "metadata": {},
   "source": [
    "**Single-Line Comment**"
   ]
  },
  {
   "cell_type": "code",
   "execution_count": 23,
   "id": "7543ae98-c8eb-49be-a560-052e5ad78299",
   "metadata": {},
   "outputs": [
    {
     "name": "stdout",
     "output_type": "stream",
     "text": [
      "Hello World !\n"
     ]
    }
   ],
   "source": [
    "# First Example of Single Line Comment   #(First line starting with # will ignore)\n",
    "\n",
    "print (\"Hello World !\")"
   ]
  },
  {
   "cell_type": "markdown",
   "id": "6b0e5e6b-1c83-4cc4-8788-2c3924e0594e",
   "metadata": {},
   "source": [
    "**Multi-Line Comment**"
   ]
  },
  {
   "cell_type": "code",
   "execution_count": 28,
   "id": "39c38883-325e-41be-8810-e89435a8c1d0",
   "metadata": {},
   "outputs": [
    {
     "name": "stdout",
     "output_type": "stream",
     "text": [
      "Hello World !\n"
     ]
    }
   ],
   "source": [
    "'''\n",
    "1st line\n",
    "2nd line\n",
    "3rd line\n",
    "\n",
    "'''   # Either  three Single quote OR two Double Quote\n",
    "\n",
    "print (\"Hello World !\")"
   ]
  },
  {
   "cell_type": "markdown",
   "id": "86d70bf6-c454-41e0-9fe9-e685724a43ce",
   "metadata": {},
   "source": [
    "___________________________________________________________________________________________________________________"
   ]
  },
  {
   "cell_type": "markdown",
   "id": "7ee0a2e3-83ea-475a-9892-6f82336e7d44",
   "metadata": {},
   "source": [
    "## Variables \n",
    "\n",
    "- Stores a value\n",
    "\n",
    "- Generally Values will be of\n",
    "\n",
    "    **Numeric**\n",
    "             \n",
    "             - Without Decimal  ( Ex. 1, 2 , 900, 24000)  \n",
    "             - With Decimal ( Ex. 10.20  , 1.5 , 1.02 )\n",
    "             \n",
    "            \n",
    "    **Non-Numeric (Text)** \n",
    "            \n",
    "            - Only Text \n",
    "            - Combination of Text with Numeric\n",
    "            - Combination of Text with Special Characters\n",
    "            \n",
    "            \n",
    "### Rules in Naming Variables \n",
    "\n",
    "- A variable name must start with a letter (a-z,A-Z) or the underscore character (_)\n",
    "\n",
    "- A variable accepts only underscore _ symbol only. \n",
    "\n",
    "- A variable name cannot be start with number\n",
    "\n",
    "- A variable name can contain combination of alpha-numeric characters and underscores\n",
    "\n",
    "- Variable names are Case-Sensitive  (age, Age, AGE are three different Varaibles )\n",
    "\n",
    "- It Can't accept reserve / Keywords"
   ]
  },
  {
   "cell_type": "markdown",
   "id": "624cc4b1-8c38-484d-b490-50e5c01c229e",
   "metadata": {},
   "source": [
    "**Reserved words in Python** - 33 Words"
   ]
  },
  {
   "cell_type": "markdown",
   "id": "effe424d-7683-43d9-9edd-04bf56da0892",
   "metadata": {},
   "source": [
    "|1 |2 |3 |4 |5 |6 |7|8|9|\n",
    "|----- |-----|----- |-----|----- |-----|-----|---|---|\n",
    "|False |None |True |and |as |assert |break|class|continue|\n",
    "|def |del |elif |else |except |finally |for|form|global|\n",
    "|if |import|in |is|lambda |nonlocal|not|or|pass|\n",
    "|raise |return|try |while|with |yield|\n",
    "\n",
    "_________________________________________________________________________________________________________________"
   ]
  },
  {
   "cell_type": "markdown",
   "id": "f08d8b9b-4aae-496f-a9b8-2e256513eb43",
   "metadata": {},
   "source": [
    "**Examples :**"
   ]
  },
  {
   "cell_type": "code",
   "execution_count": 60,
   "id": "9a71a5fb-887d-401d-bde0-8e2bcea6071c",
   "metadata": {},
   "outputs": [
    {
     "name": "stdout",
     "output_type": "stream",
     "text": [
      "10\n"
     ]
    }
   ],
   "source": [
    "a = 10\n",
    "print(a)"
   ]
  },
  {
   "cell_type": "code",
   "execution_count": 62,
   "id": "357306b4-2544-4c01-a666-fc276332e11a",
   "metadata": {},
   "outputs": [
    {
     "name": "stdout",
     "output_type": "stream",
     "text": [
      "2.0\n"
     ]
    }
   ],
   "source": [
    "A = 2.0\n",
    "print(A)"
   ]
  },
  {
   "cell_type": "code",
   "execution_count": 68,
   "id": "2613b9b2-b823-40a5-a75e-6acaf8a2e588",
   "metadata": {},
   "outputs": [
    {
     "name": "stdout",
     "output_type": "stream",
     "text": [
      "Hello World\n"
     ]
    }
   ],
   "source": [
    "s=\"Hello World\"\n",
    "print(s)"
   ]
  },
  {
   "cell_type": "markdown",
   "id": "4a7720fd-fbfe-464b-8ec8-6c1e574a3e16",
   "metadata": {},
   "source": [
    "**Incorrect Ways :**"
   ]
  },
  {
   "cell_type": "code",
   "execution_count": 93,
   "id": "9ad9754c-bc9b-4165-b563-5c6e0c9721f1",
   "metadata": {},
   "outputs": [
    {
     "ename": "SyntaxError",
     "evalue": "invalid decimal literal (3382305307.py, line 1)",
     "output_type": "error",
     "traceback": [
      "\u001b[1;36m  Cell \u001b[1;32mIn[93], line 1\u001b[1;36m\u001b[0m\n\u001b[1;33m    1a = 50         # Variable Name cannot be start with Numeric Value\u001b[0m\n\u001b[1;37m    ^\u001b[0m\n\u001b[1;31mSyntaxError\u001b[0m\u001b[1;31m:\u001b[0m invalid decimal literal\n"
     ]
    }
   ],
   "source": [
    "1a = 50         # Variable Name cannot be start with Numeric Value\n",
    "print(1a)"
   ]
  },
  {
   "cell_type": "code",
   "execution_count": null,
   "id": "cf4c8131-096f-4d9a-856d-4e626ae03eb4",
   "metadata": {},
   "outputs": [],
   "source": []
  },
  {
   "cell_type": "code",
   "execution_count": 96,
   "id": "8694e56e-0eaf-4b2c-8c01-e0e0afa68b5c",
   "metadata": {},
   "outputs": [
    {
     "ename": "SyntaxError",
     "evalue": "invalid syntax. Maybe you meant '==' or ':=' instead of '='? (2268769766.py, line 1)",
     "output_type": "error",
     "traceback": [
      "\u001b[1;36m  Cell \u001b[1;32mIn[96], line 1\u001b[1;36m\u001b[0m\n\u001b[1;33m    @a = 10       # Variable Name should be start with Alpha-Numeric , or Only Underscore (_)\u001b[0m\n\u001b[1;37m     ^\u001b[0m\n\u001b[1;31mSyntaxError\u001b[0m\u001b[1;31m:\u001b[0m invalid syntax. Maybe you meant '==' or ':=' instead of '='?\n"
     ]
    }
   ],
   "source": [
    "@a = 10       # Variable Name should be start with Alpha-Numeric , or Only Underscore (_)\n",
    "print(@a)"
   ]
  },
  {
   "cell_type": "code",
   "execution_count": null,
   "id": "a2bfc5ee-4d39-421d-9440-a27d05d764c6",
   "metadata": {},
   "outputs": [],
   "source": []
  },
  {
   "cell_type": "code",
   "execution_count": 99,
   "id": "15bd6800-64fb-4e2c-9923-d9e4a2d589f9",
   "metadata": {},
   "outputs": [
    {
     "ename": "SyntaxError",
     "evalue": "invalid syntax (1904836395.py, line 1)",
     "output_type": "error",
     "traceback": [
      "\u001b[1;36m  Cell \u001b[1;32mIn[99], line 1\u001b[1;36m\u001b[0m\n\u001b[1;33m    if = 70         # Reserved Words cannot be used as Variable.\u001b[0m\n\u001b[1;37m       ^\u001b[0m\n\u001b[1;31mSyntaxError\u001b[0m\u001b[1;31m:\u001b[0m invalid syntax\n"
     ]
    }
   ],
   "source": [
    "if = 70         # Reserved Words cannot be used as Variable.\n",
    "print(if)   "
   ]
  },
  {
   "cell_type": "code",
   "execution_count": null,
   "id": "eb9e3f91-7d1e-45a4-8074-99949242eecd",
   "metadata": {},
   "outputs": [],
   "source": []
  },
  {
   "cell_type": "markdown",
   "id": "07d53ecf-7e46-4e2f-9a5a-be94144e9a28",
   "metadata": {},
   "source": [
    "**Correct Ways to Declare Variables**"
   ]
  },
  {
   "cell_type": "code",
   "execution_count": 101,
   "id": "dcd996b1-4792-48b7-9d70-cfbb0f5d42f4",
   "metadata": {},
   "outputs": [],
   "source": [
    "a       = 20\n",
    "\n",
    "b       = -400\n",
    "\n",
    "c       =  20.5 \n",
    "\n",
    "num1    = 30\n",
    "\n",
    "num_1   = 10\n",
    "\n",
    "_num    =  5\n",
    "\n",
    "name    = \"Hello , @ , !  , 44 \"    #  <---------  Non-Numeric Data    -----> 16.2.2.4\n",
    "\n",
    "Complex_num = 1+3j\n"
   ]
  },
  {
   "cell_type": "markdown",
   "id": "01229076-5d45-4803-a8ca-05857ec4fe01",
   "metadata": {},
   "source": [
    "**Ways to Declare Variables :**"
   ]
  },
  {
   "cell_type": "code",
   "execution_count": 103,
   "id": "fe839c77-ee8f-4d8d-8c4d-76bfc5dfd0f8",
   "metadata": {},
   "outputs": [],
   "source": [
    "myvar = \"John\"\n",
    "\n",
    "my_var = 10\n",
    "\n",
    "_my_var = 2.5\n",
    "\n",
    "myVar = 1+3j\n",
    "\n",
    "MYVAR = \"@@@@\"\n",
    "\n",
    "myvar2 = \"44\""
   ]
  },
  {
   "cell_type": "markdown",
   "id": "267972a9-ac03-4556-9e51-373028f4d724",
   "metadata": {},
   "source": [
    "____________________________________________________________________________________________________________________"
   ]
  },
  {
   "cell_type": "markdown",
   "id": "e8ccf902-124d-4ac0-a419-7a957a956806",
   "metadata": {},
   "source": [
    "**Variable Assignment :** - Storing a value in variable\n",
    "- **1 Value to 1 Variable  :**   e.g.  x=10\n",
    "\n",
    "- **Multiple Values to 1 Variable :** e.g.  x = 10,20,30\n",
    "\n",
    "- **1 Value to Multiple Variables :** e.g. x=y=z=10\n",
    "\n",
    "- **Multiple Values to Multiple Variables** "
   ]
  },
  {
   "cell_type": "markdown",
   "id": "17fe8531-5e7f-4dd3-9cac-baec07f570ed",
   "metadata": {},
   "source": [
    "_____________________________________________________________________________________________________"
   ]
  },
  {
   "cell_type": "markdown",
   "id": "2bfaa84f-40db-4ca4-a92e-2c32cbfac312",
   "metadata": {},
   "source": [
    "**1.One Value to One Variable :** "
   ]
  },
  {
   "cell_type": "code",
   "execution_count": 111,
   "id": "9f0a73b8-2646-4957-9c0c-01e3c043162f",
   "metadata": {},
   "outputs": [
    {
     "name": "stdout",
     "output_type": "stream",
     "text": [
      "10\n"
     ]
    }
   ],
   "source": [
    "x = 10 \n",
    "print(x)"
   ]
  },
  {
   "cell_type": "markdown",
   "id": "6e80441b-e9f2-4ec8-b9a0-ba7c3c2b2119",
   "metadata": {},
   "source": [
    "**2. Multiple Values to one Variable**"
   ]
  },
  {
   "cell_type": "code",
   "execution_count": 114,
   "id": "a1e76000-b316-4a0f-83b8-6b2504b8edda",
   "metadata": {},
   "outputs": [
    {
     "name": "stdout",
     "output_type": "stream",
     "text": [
      "(10, 20, 30)\n"
     ]
    },
    {
     "data": {
      "text/plain": [
       "tuple"
      ]
     },
     "execution_count": 114,
     "metadata": {},
     "output_type": "execute_result"
    }
   ],
   "source": [
    "a = 10,20,30\n",
    "\n",
    "print(a)\n",
    "\n",
    "type(a)"
   ]
  },
  {
   "cell_type": "markdown",
   "id": "1ac7b843-d97c-471c-9e3a-d558c0d72f66",
   "metadata": {},
   "source": [
    "____________________________________________________________________________________________________________________"
   ]
  },
  {
   "cell_type": "markdown",
   "id": "bac17aa5-ecf3-4d65-a444-f6d1604b6153",
   "metadata": {},
   "source": [
    "**3.One Value to Multiple Variables**\n",
    "\n",
    "- We can Assign the same value to multiple variables in one line"
   ]
  },
  {
   "cell_type": "code",
   "execution_count": 121,
   "id": "a9d05949-bb7b-4f7f-9a1f-b2972f6d3457",
   "metadata": {},
   "outputs": [
    {
     "name": "stdout",
     "output_type": "stream",
     "text": [
      "10 10 10\n"
     ]
    }
   ],
   "source": [
    "a= 10 \n",
    "b = 10\n",
    "c = 10\n",
    "\n",
    "#OR\n",
    "\n",
    "a = b = c = 10 \n",
    "\n",
    "print(a,b,c)"
   ]
  },
  {
   "cell_type": "markdown",
   "id": "ae106c40-5cb8-40eb-ba99-2d11b30b10c4",
   "metadata": {},
   "source": [
    "___________________________________________________________________________________________________________________"
   ]
  },
  {
   "cell_type": "markdown",
   "id": "e3c5ed0d-0fd9-47cd-8a3d-84c2e7fd15f4",
   "metadata": {},
   "source": [
    "- **id()- To Check the Address of  the value or a variable**"
   ]
  },
  {
   "cell_type": "code",
   "execution_count": 152,
   "id": "638e45b1-927a-4d6c-8ecf-d5633fc72ca5",
   "metadata": {},
   "outputs": [
    {
     "data": {
      "text/plain": [
       "2249116038960"
      ]
     },
     "execution_count": 152,
     "metadata": {},
     "output_type": "execute_result"
    }
   ],
   "source": [
    "a = \"Hello\"\n",
    "\n",
    "id(a)"
   ]
  },
  {
   "cell_type": "code",
   "execution_count": 154,
   "id": "c1e45034-98b0-42e6-a0fb-16d670c78b05",
   "metadata": {},
   "outputs": [
    {
     "name": "stdout",
     "output_type": "stream",
     "text": [
      "15 15 15\n"
     ]
    }
   ],
   "source": [
    "a=b=c= 15\n",
    "print(a,b,c)  # Same Id assigned to all Variables"
   ]
  },
  {
   "cell_type": "code",
   "execution_count": 144,
   "id": "8cebae6b-928e-45f2-9d53-b68a6be3dc54",
   "metadata": {},
   "outputs": [
    {
     "data": {
      "text/plain": [
       "140707829368040"
      ]
     },
     "execution_count": 144,
     "metadata": {},
     "output_type": "execute_result"
    }
   ],
   "source": [
    "id(a)"
   ]
  },
  {
   "cell_type": "code",
   "execution_count": 146,
   "id": "fec38e75-743f-4923-9c74-6031230f855a",
   "metadata": {},
   "outputs": [
    {
     "data": {
      "text/plain": [
       "140707829368040"
      ]
     },
     "execution_count": 146,
     "metadata": {},
     "output_type": "execute_result"
    }
   ],
   "source": [
    "id(b)"
   ]
  },
  {
   "cell_type": "code",
   "execution_count": 150,
   "id": "8e1be784-a028-4162-83a9-bdbe09ab8bf6",
   "metadata": {},
   "outputs": [
    {
     "data": {
      "text/plain": [
       "140707829368040"
      ]
     },
     "execution_count": 150,
     "metadata": {},
     "output_type": "execute_result"
    }
   ],
   "source": [
    "id(c)"
   ]
  },
  {
   "cell_type": "markdown",
   "id": "777b7217-3a2f-4d49-89fd-8d7aa05d5ccb",
   "metadata": {},
   "source": [
    "_____________________________________________________________________________________________________________________"
   ]
  },
  {
   "cell_type": "markdown",
   "id": "b97970f7-d039-4974-93f4-ce45027d19cc",
   "metadata": {},
   "source": [
    "**4.Multiple Values to Multiple Variables**  -\n",
    " \n",
    "   - Python allows you to assign values to multiple variables in one line\n",
    " \n",
    "   **Note :** Make Sure the Number of variables matches the number of values, or else you will get an error."
   ]
  },
  {
   "cell_type": "code",
   "execution_count": 157,
   "id": "9bd1e612-76d3-49ea-9312-f973655fa0fb",
   "metadata": {},
   "outputs": [
    {
     "name": "stdout",
     "output_type": "stream",
     "text": [
      "10 20 30 100\n"
     ]
    }
   ],
   "source": [
    "a = 10    \n",
    "b = 20\n",
    "c = 30    \n",
    "d= 100\n",
    "# OR   We can Write like Below \n",
    "\n",
    "a,b,c,d = 10, 20,30,100\n",
    "print(a,b,c,d)\n"
   ]
  },
  {
   "cell_type": "code",
   "execution_count": 159,
   "id": "ac7d4b36-e0bd-42ae-82a8-7e54ad99c36d",
   "metadata": {},
   "outputs": [
    {
     "data": {
      "text/plain": [
       "140707829367880"
      ]
     },
     "execution_count": 159,
     "metadata": {},
     "output_type": "execute_result"
    }
   ],
   "source": [
    "id(a)"
   ]
  },
  {
   "cell_type": "code",
   "execution_count": 163,
   "id": "2960eb32-d945-47e3-9d2d-c4ff9592c72e",
   "metadata": {},
   "outputs": [
    {
     "data": {
      "text/plain": [
       "140707829368200"
      ]
     },
     "execution_count": 163,
     "metadata": {},
     "output_type": "execute_result"
    }
   ],
   "source": [
    "id(b)"
   ]
  },
  {
   "cell_type": "code",
   "execution_count": 165,
   "id": "9df85ca8-d33b-4caf-b629-69802ee89f30",
   "metadata": {},
   "outputs": [
    {
     "data": {
      "text/plain": [
       "140707829368520"
      ]
     },
     "execution_count": 165,
     "metadata": {},
     "output_type": "execute_result"
    }
   ],
   "source": [
    "id(c)"
   ]
  },
  {
   "cell_type": "code",
   "execution_count": 167,
   "id": "e3d8fc4e-4be6-483e-9e33-ddee191057ce",
   "metadata": {},
   "outputs": [
    {
     "data": {
      "text/plain": [
       "140707829370760"
      ]
     },
     "execution_count": 167,
     "metadata": {},
     "output_type": "execute_result"
    }
   ],
   "source": [
    "id(d)"
   ]
  },
  {
   "cell_type": "markdown",
   "id": "98935fc8-b935-4640-96e6-b96b13ad469a",
   "metadata": {},
   "source": [
    "**Note :in Python Latest Value Stored in Variable**\n"
   ]
  },
  {
   "cell_type": "code",
   "execution_count": 170,
   "id": "9ca1ec62-d396-4541-8519-4333ce956be7",
   "metadata": {},
   "outputs": [
    {
     "name": "stdout",
     "output_type": "stream",
     "text": [
      "10\n",
      "20\n"
     ]
    }
   ],
   "source": [
    "# e.g. \n",
    "first_value = 10\n",
    "print(first_value)\n",
    "\n",
    "'''' Now We are going to save  20 as a  value. \n",
    "It will Automatically Store 20 in varibale and previous  one i.e. 10 is cleared.'''\n",
    "\n",
    "first_value = 20\n",
    "print(first_value)#   ----->  It gives 20"
   ]
  },
  {
   "cell_type": "code",
   "execution_count": null,
   "id": "43bd4f2f-5382-4b05-86bf-e7fc5a73dc8c",
   "metadata": {},
   "outputs": [],
   "source": []
  },
  {
   "cell_type": "markdown",
   "id": "df004be0-e4f5-436f-953f-515b6957b328",
   "metadata": {},
   "source": [
    "## **Delete a Variable :**\n",
    "- Variable can be deleted by using **del** word\n",
    "\n",
    "**Syntax :**\n",
    "- **For single variable  :** del variable_name\n",
    "- **For Multiple Variable :** del variable_name_1.Variable_name_2,........variable_name_n\n",
    "\n",
    "    "
   ]
  },
  {
   "cell_type": "code",
   "execution_count": 32,
   "id": "56181da7-eeeb-4f1f-9d9b-600704cb7183",
   "metadata": {},
   "outputs": [
    {
     "name": "stdout",
     "output_type": "stream",
     "text": [
      "10\n",
      "20\n"
     ]
    }
   ],
   "source": [
    "# For single variable\n",
    "a,b = 10,20\n",
    "\n",
    "print(a)\n",
    "print(b)"
   ]
  },
  {
   "cell_type": "code",
   "execution_count": 44,
   "id": "0868d9db-665d-4b6b-bb72-cc4abb63b3b2",
   "metadata": {},
   "outputs": [
    {
     "name": "stdout",
     "output_type": "stream",
     "text": [
      "20\n"
     ]
    },
    {
     "ename": "NameError",
     "evalue": "name 'a' is not defined",
     "output_type": "error",
     "traceback": [
      "\u001b[1;31m---------------------------------------------------------------------------\u001b[0m",
      "\u001b[1;31mNameError\u001b[0m                                 Traceback (most recent call last)",
      "Cell \u001b[1;32mIn[44], line 5\u001b[0m\n\u001b[0;32m      3\u001b[0m \u001b[38;5;28;01mdel\u001b[39;00m(a)    \u001b[38;5;66;03m# Variable a is deleted now. \u001b[39;00m\n\u001b[0;32m      4\u001b[0m \u001b[38;5;28mprint\u001b[39m(b)\n\u001b[1;32m----> 5\u001b[0m \u001b[38;5;28mprint\u001b[39m(a)\n",
      "\u001b[1;31mNameError\u001b[0m: name 'a' is not defined"
     ]
    }
   ],
   "source": [
    "a=10\n",
    "b=20\n",
    "del(a)    # Variable a is deleted now. \n",
    "print(b)\n",
    "print(a) # Variable a cannot be Printed as we deleted already."
   ]
  },
  {
   "cell_type": "code",
   "execution_count": null,
   "id": "ecce620b-bf2a-41c8-96af-1d0f8e638d57",
   "metadata": {},
   "outputs": [],
   "source": []
  },
  {
   "cell_type": "code",
   "execution_count": 50,
   "id": "5fd05c01-bb79-4abf-8a78-aca535dab997",
   "metadata": {},
   "outputs": [
    {
     "name": "stdout",
     "output_type": "stream",
     "text": [
      "100\n"
     ]
    }
   ],
   "source": [
    "#For Multiple Variable:\n",
    "\n",
    "a,b,c, = 25,50,100\n",
    "\n",
    "del a,b\n",
    "\n",
    "print(c)\n"
   ]
  },
  {
   "cell_type": "code",
   "execution_count": null,
   "id": "514aaf88-d3ca-4ab0-b28d-2e0df71e6d1c",
   "metadata": {},
   "outputs": [],
   "source": []
  }
 ],
 "metadata": {
  "kernelspec": {
   "display_name": "Python 3 (ipykernel)",
   "language": "python",
   "name": "python3"
  },
  "language_info": {
   "codemirror_mode": {
    "name": "ipython",
    "version": 3
   },
   "file_extension": ".py",
   "mimetype": "text/x-python",
   "name": "python",
   "nbconvert_exporter": "python",
   "pygments_lexer": "ipython3",
   "version": "3.11.7"
  }
 },
 "nbformat": 4,
 "nbformat_minor": 5
}
