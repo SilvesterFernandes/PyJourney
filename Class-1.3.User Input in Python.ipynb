{
 "cells": [
  {
   "cell_type": "markdown",
   "id": "82c18a37-fa82-4ce6-8c4a-c38e0bc8e528",
   "metadata": {},
   "source": [
    "# **Class - 1.3 :: User Input in Python**\n",
    "**Day & Date :**\n",
    "\n",
    "\n",
    "__________________________________________________________________________________________________________________________________________________________"
   ]
  },
  {
   "cell_type": "markdown",
   "id": "5211b2d5-6c41-481a-b4fc-34b6f7972cf3",
   "metadata": {},
   "source": [
    "# **User Input**\n",
    "- In Python, we can take input from the user using the **input()** function.\n",
    "- This function reads a line from input, converts it into a string, and returns it.\n",
    "- **By default** it takes as **'str'** data type\n",
    "\n",
    "      In this notebook, we'll explore how to use input() and how to handle different types of user input.\n",
    "\n",
    "________________________________________________________________________________________________________________________________________________________"
   ]
  },
  {
   "cell_type": "markdown",
   "id": "66f42726-e812-4694-a65d-7f8ff372c07d",
   "metadata": {},
   "source": [
    "**Take input from the user**"
   ]
  },
  {
   "cell_type": "code",
   "execution_count": 1,
   "id": "f83bab69-b871-4ba1-9809-3e5c14470c67",
   "metadata": {},
   "outputs": [
    {
     "name": "stdin",
     "output_type": "stream",
     "text": [
      " hello\n"
     ]
    }
   ],
   "source": [
    "a=input()"
   ]
  },
  {
   "cell_type": "code",
   "execution_count": null,
   "id": "4cb45fe2-5adf-4caa-980b-f2fb58c28148",
   "metadata": {},
   "outputs": [],
   "source": []
  },
  {
   "cell_type": "code",
   "execution_count": 3,
   "id": "9141cebd-8317-40a1-a69d-2679102821a0",
   "metadata": {},
   "outputs": [
    {
     "name": "stdin",
     "output_type": "stream",
     "text": [
      "Enter Your Name : Sillu\n"
     ]
    }
   ],
   "source": [
    "b= input(\"Enter Your Name :\")"
   ]
  },
  {
   "cell_type": "code",
   "execution_count": 9,
   "id": "0aeb122e-2c61-4891-bdc4-86751484793d",
   "metadata": {},
   "outputs": [
    {
     "data": {
      "text/plain": [
       "str"
      ]
     },
     "execution_count": 9,
     "metadata": {},
     "output_type": "execute_result"
    }
   ],
   "source": [
    "type(b)\n",
    "type(a)"
   ]
  },
  {
   "cell_type": "code",
   "execution_count": null,
   "id": "c2014d49-9652-4111-bfdb-51223d850d29",
   "metadata": {},
   "outputs": [],
   "source": []
  },
  {
   "cell_type": "code",
   "execution_count": 17,
   "id": "34a6a9c2-0c4f-4353-8f4d-a6bf781e0ea7",
   "metadata": {},
   "outputs": [
    {
     "name": "stdin",
     "output_type": "stream",
     "text": [
      "Enter Your Age : 25\n"
     ]
    },
    {
     "name": "stdout",
     "output_type": "stream",
     "text": [
      "You Entered age is :  25\n",
      "Data Type of Enterd Value is :  <class 'str'>\n"
     ]
    }
   ],
   "source": [
    "age=input(\"Enter Your Age :\")\n",
    "\n",
    "print(\"You Entered age is : \",age)\n",
    "\n",
    "print(\"Data Type of Enterd Value is : \",type(age))"
   ]
  },
  {
   "cell_type": "code",
   "execution_count": null,
   "id": "56b1173c-c7d1-47f0-9bd3-e2d38605d9fe",
   "metadata": {},
   "outputs": [],
   "source": []
  },
  {
   "cell_type": "code",
   "execution_count": 19,
   "id": "5a819caf-e27b-4892-ae41-8569d681702e",
   "metadata": {},
   "outputs": [
    {
     "name": "stdin",
     "output_type": "stream",
     "text": [
      "Enter Your Age : 25\n"
     ]
    },
    {
     "name": "stdout",
     "output_type": "stream",
     "text": [
      "You Entered age is :  25\n",
      "Data Type of Enterd Value is :  <class 'int'>\n"
     ]
    }
   ],
   "source": [
    "# int data type :\n",
    "\n",
    "age=int(input(\"Enter Your Age :\"))\n",
    "\n",
    "print(\"You Entered age is : \",age)\n",
    "\n",
    "print(\"Data Type of Enterd Value is : \",type(age))"
   ]
  },
  {
   "cell_type": "code",
   "execution_count": null,
   "id": "c6935de9-a237-4ea4-b0db-0cf9bb599414",
   "metadata": {},
   "outputs": [],
   "source": []
  },
  {
   "cell_type": "code",
   "execution_count": 21,
   "id": "402ac64d-c76a-4fcf-a162-372fff43fe5a",
   "metadata": {},
   "outputs": [
    {
     "name": "stdin",
     "output_type": "stream",
     "text": [
      "Enter Your Age : 30\n"
     ]
    },
    {
     "name": "stdout",
     "output_type": "stream",
     "text": [
      "You Entered age is :  30.0\n",
      "Data Type of Enterd Value is :  <class 'float'>\n"
     ]
    }
   ],
   "source": [
    "# Float data type :\n",
    "\n",
    "age=float(input(\"Enter Your Age :\"))\n",
    "\n",
    "print(\"You Entered age is : \",age)\n",
    "\n",
    "print(\"Data Type of Enterd Value is : \",type(age))"
   ]
  },
  {
   "cell_type": "code",
   "execution_count": null,
   "id": "dac68987-27e1-48a1-a3e7-d4524f465144",
   "metadata": {},
   "outputs": [],
   "source": []
  },
  {
   "cell_type": "code",
   "execution_count": 28,
   "id": "c108acaa-481f-42f6-a7e2-3b9e6f5a41fe",
   "metadata": {},
   "outputs": [
    {
     "name": "stdin",
     "output_type": "stream",
     "text": [
      "What is your name?  Silvester\n",
      "Enter your age?  25\n"
     ]
    },
    {
     "name": "stdout",
     "output_type": "stream",
     "text": [
      "lt was nice talking you Silvester\n",
      "Hey, Silvester already you are 25 years old,\n"
     ]
    }
   ],
   "source": [
    "name = input (\"What is your name? \")\n",
    "age = int(input(\"Enter your age? \"))\n",
    "print(\"lt was nice talking you\",name)\n",
    "          \n",
    "print( \"Hey,\", name,  \"already you are\", age, \"years old,\")"
   ]
  },
  {
   "cell_type": "code",
   "execution_count": null,
   "id": "80126699-8795-4ccb-85ec-5af31cfc38ff",
   "metadata": {},
   "outputs": [],
   "source": []
  },
  {
   "cell_type": "code",
   "execution_count": null,
   "id": "af8144f0-2fbd-4396-970b-9ee129a892c6",
   "metadata": {},
   "outputs": [],
   "source": []
  }
 ],
 "metadata": {
  "kernelspec": {
   "display_name": "Python 3 (ipykernel)",
   "language": "python",
   "name": "python3"
  },
  "language_info": {
   "codemirror_mode": {
    "name": "ipython",
    "version": 3
   },
   "file_extension": ".py",
   "mimetype": "text/x-python",
   "name": "python",
   "nbconvert_exporter": "python",
   "pygments_lexer": "ipython3",
   "version": "3.11.7"
  }
 },
 "nbformat": 4,
 "nbformat_minor": 5
}
