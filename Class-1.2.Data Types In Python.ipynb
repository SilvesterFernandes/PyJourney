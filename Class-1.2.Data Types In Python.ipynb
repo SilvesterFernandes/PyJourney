{
 "cells": [
  {
   "cell_type": "markdown",
   "id": "9603b16b",
   "metadata": {},
   "source": [
    "# Class-1.2 :: Data Types In Python \n",
    "\n",
    "**2 June 2024**\n",
    "\n",
    "\n"
   ]
  },
  {
   "cell_type": "markdown",
   "id": "fe8b9ef1-05a5-4d55-8ae2-4ce0c41d61dd",
   "metadata": {},
   "source": [
    "_______________________________________________________________________________________________________________"
   ]
  },
  {
   "cell_type": "markdown",
   "id": "5a8abeee-1443-4115-932c-8e3013f3a0c3",
   "metadata": {},
   "source": [
    "## Data Types\n",
    "- **1. Fundamental Data Types**\n",
    "- **2. Advanced Data Types**"
   ]
  },
  {
   "cell_type": "markdown",
   "id": "cf642c46-c3e5-40be-96ae-f48875f2d846",
   "metadata": {},
   "source": [
    "___________________________________________________________________________________________________________"
   ]
  },
  {
   "cell_type": "markdown",
   "id": "b78905fa-253c-4e54-ab49-353e81990df3",
   "metadata": {},
   "source": [
    "## **1.Fundamental Data Types :**\n",
    "- These object can store only  1 Value.\n",
    "- All Fundamental data types objects are **immutable** (Once we Assign a object with value, we can't modify the value in the object)\n",
    "|S.No.     |Type      |Short_Name    |Example (value)|Note|\n",
    "|-----|-------|------|---|---|\n",
    "|1.   |Integer|  int | 42|Values without decimal|\n",
    "|2.|float|float|15.06|Values with decimal|\n",
    "|3.|complex|complex|5+3j|++||\n",
    "|4.|boolean|bool|True,False|--|\n",
    "|5.|String|str|\"Hello World\"|Non-Numeric|\n",
    "\n",
    "\n",
    "\n",
    "\n",
    "\n",
    "## **2.Advance Data Types :**\n",
    "\n",
    "- It Can Store Multiple Values in a Single Object.\n",
    "\n",
    "     - **List**\n",
    "     - **Tuple**\n",
    "     - **Set**\n",
    "     - **Dictionary**"
   ]
  },
  {
   "cell_type": "markdown",
   "id": "f32f643c-1625-47c6-adc2-c849ced91c48",
   "metadata": {},
   "source": [
    "______________________________________________________________________________________________"
   ]
  },
  {
   "cell_type": "markdown",
   "id": "a70635d5",
   "metadata": {},
   "source": [
    "**type() :**  \n",
    "-  To Check Data type of given variable"
   ]
  },
  {
   "cell_type": "markdown",
   "id": "c3096ea9-e38f-4070-8bb6-b65681b340f3",
   "metadata": {},
   "source": [
    "_______________________________________________________________________________________________"
   ]
  },
  {
   "cell_type": "markdown",
   "id": "62559d5c",
   "metadata": {},
   "source": [
    "### **1)  Int :**\n",
    "- Numerical value with no decimal\n",
    "- Can be either negative or positive or zero"
   ]
  },
  {
   "cell_type": "code",
   "execution_count": 32,
   "id": "9c6745c7",
   "metadata": {},
   "outputs": [
    {
     "name": "stdout",
     "output_type": "stream",
     "text": [
      "-10\n"
     ]
    }
   ],
   "source": [
    "a = -10\n",
    "print(a)"
   ]
  },
  {
   "cell_type": "code",
   "execution_count": 34,
   "id": "0d38999f",
   "metadata": {},
   "outputs": [
    {
     "data": {
      "text/plain": [
       "int"
      ]
     },
     "execution_count": 34,
     "metadata": {},
     "output_type": "execute_result"
    }
   ],
   "source": [
    "type(a) "
   ]
  },
  {
   "cell_type": "markdown",
   "id": "09bb96d4-d3f0-4d85-acc0-43ac9e7b11b4",
   "metadata": {},
   "source": [
    "_____________________________________________________________________________________________"
   ]
  },
  {
   "cell_type": "markdown",
   "id": "b954bdee-8f52-44c2-a1bc-9bbca04a7345",
   "metadata": {},
   "source": [
    "### **2) Float :**\n",
    " - Stores Decimal Values \r\n",
    " - It Stores only Numeric Values"
   ]
  },
  {
   "cell_type": "code",
   "execution_count": 38,
   "id": "dcd6706e-e5f4-4a3e-8ff8-d8c9db74cccb",
   "metadata": {},
   "outputs": [
    {
     "name": "stdout",
     "output_type": "stream",
     "text": [
      "2.5\n"
     ]
    }
   ],
   "source": [
    "b= 2.5\n",
    "print(b)"
   ]
  },
  {
   "cell_type": "code",
   "execution_count": 40,
   "id": "f12581e3-74f7-40c6-a987-1a3239465a6f",
   "metadata": {},
   "outputs": [
    {
     "data": {
      "text/plain": [
       "float"
      ]
     },
     "execution_count": 40,
     "metadata": {},
     "output_type": "execute_result"
    }
   ],
   "source": [
    "type(b)"
   ]
  },
  {
   "cell_type": "markdown",
   "id": "f5cded06-b94c-4838-b0d0-93780f39b5da",
   "metadata": {},
   "source": [
    "_______________________________________________________________________________________________"
   ]
  },
  {
   "cell_type": "markdown",
   "id": "8e64f674-5290-4390-810e-6a0277c23104",
   "metadata": {},
   "source": [
    "### **3) Complex:**\n",
    "- Stores Complex Numbers \r",
    " - Left side is Real Part ,  Right Side is Imaginary Part\r\n"
   ]
  },
  {
   "cell_type": "code",
   "execution_count": 44,
   "id": "c3268787-a6e5-4d4b-ba9f-df7665b31060",
   "metadata": {},
   "outputs": [
    {
     "name": "stdout",
     "output_type": "stream",
     "text": [
      "(4+5j)\n"
     ]
    }
   ],
   "source": [
    "z= 4+5j\n",
    "print(z)"
   ]
  },
  {
   "cell_type": "code",
   "execution_count": 46,
   "id": "626ff1aa-5b5a-41c8-b065-52e96201a0c5",
   "metadata": {},
   "outputs": [
    {
     "data": {
      "text/plain": [
       "complex"
      ]
     },
     "execution_count": 46,
     "metadata": {},
     "output_type": "execute_result"
    }
   ],
   "source": [
    "type(z)"
   ]
  },
  {
   "cell_type": "markdown",
   "id": "ea8a6621-08ad-49eb-9641-0bfb0718bafb",
   "metadata": {},
   "source": [
    "_______________________________________________________________________________________________"
   ]
  },
  {
   "cell_type": "markdown",
   "id": "de202fac-f28c-4579-85aa-d598a9cb16cf",
   "metadata": {},
   "source": [
    "### **4) Boolean-:**\n",
    "- It Stores **True or False** Value Only\n",
    "\n",
    "- Make Sure **first Letter is Capital**   e.g True , False \n",
    "\n",
    "- Other than Numbers ( int , float, complex  & boolean )"
   ]
  },
  {
   "cell_type": "code",
   "execution_count": 64,
   "id": "6bab9f73-2770-4959-91f1-2eb0cfd4b3fe",
   "metadata": {},
   "outputs": [
    {
     "data": {
      "text/plain": [
       "bool"
      ]
     },
     "execution_count": 64,
     "metadata": {},
     "output_type": "execute_result"
    }
   ],
   "source": [
    "f = True\n",
    "type(f)"
   ]
  },
  {
   "cell_type": "markdown",
   "id": "48c9cdc5-6008-4fc6-9639-b6de141df040",
   "metadata": {},
   "source": [
    "_______________________________________________________________________________________________"
   ]
  },
  {
   "cell_type": "markdown",
   "id": "1033966a-3750-4e2d-8788-4558c48f877d",
   "metadata": {},
   "source": [
    "### **5) String:**\n",
    "- Stores Character Values\r\n",
    "- String is written in between  \" \"   Or   '  '\n"
   ]
  },
  {
   "cell_type": "code",
   "execution_count": 75,
   "id": "b893a4f5-c9dd-402d-a69f-531cf6970721",
   "metadata": {},
   "outputs": [
    {
     "name": "stdout",
     "output_type": "stream",
     "text": [
      "Hello This is String , @@@, $##@ , 2 \n",
      " 2 \n"
     ]
    },
    {
     "data": {
      "text/plain": [
       "str"
      ]
     },
     "execution_count": 75,
     "metadata": {},
     "output_type": "execute_result"
    }
   ],
   "source": [
    "c = \"Hello This is String , @@@, $##@ , 2 \"\n",
    "\n",
    "print(c)\n",
    "\n",
    "d = \" 2 \"\n",
    "\n",
    "print (d) \n",
    "\n",
    "type(d)"
   ]
  },
  {
   "cell_type": "markdown",
   "id": "6d8d19af-4e89-49e6-b1fc-6f1a9dc0d121",
   "metadata": {},
   "source": [
    "**Multi-Line Strings :**"
   ]
  },
  {
   "cell_type": "code",
   "execution_count": 6,
   "id": "e8f0f8a4-12ed-41ed-a74b-fb17ec31fc07",
   "metadata": {},
   "outputs": [
    {
     "name": "stdout",
     "output_type": "stream",
     "text": [
      "Hello\n",
      "      world!!!  \n",
      " Hello \n",
      "Python !!!! \n"
     ]
    }
   ],
   "source": [
    "a= '''Hello\n",
    "      world!!!  '''\n",
    "\n",
    "# OR\n",
    "\n",
    "b = \"\"\" Hello \n",
    "Python !!!! \"\"\"\n",
    "\n",
    "print(a)\n",
    "print(b)"
   ]
  },
  {
   "cell_type": "markdown",
   "id": "37d3f713-9c89-4170-9792-3ca3c10435a1",
   "metadata": {},
   "source": [
    "**Length of String :**  \n",
    "- For Length of String **len()** Fuction can used"
   ]
  },
  {
   "cell_type": "code",
   "execution_count": 11,
   "id": "248a6c11-cdbe-415d-a7a0-35a0ad87ee8c",
   "metadata": {},
   "outputs": [
    {
     "data": {
      "text/plain": [
       "11"
      ]
     },
     "execution_count": 11,
     "metadata": {},
     "output_type": "execute_result"
    }
   ],
   "source": [
    "String= \"Hello World\"\n",
    "len(String)   #Space is also Calculated"
   ]
  },
  {
   "cell_type": "markdown",
   "id": "634b6a02-6fce-486b-862c-a2933dfe3fe9",
   "metadata": {},
   "source": [
    "**f String:**"
   ]
  },
  {
   "cell_type": "code",
   "execution_count": 34,
   "id": "5e351e10-2d11-4c7a-9efc-9e49e1de5806",
   "metadata": {},
   "outputs": [
    {
     "name": "stdout",
     "output_type": "stream",
     "text": [
      "My Name is : Silvester and Age is : 24\n"
     ]
    }
   ],
   "source": [
    "name=\"Silvester\"\n",
    "age = 24\n",
    "\n",
    "print(f\"My Name is : {name} and Age is : {age}\")"
   ]
  },
  {
   "cell_type": "markdown",
   "id": "d164f809-323b-4c02-a857-8f7688672feb",
   "metadata": {},
   "source": [
    "**String Concatenation :**\n",
    "- Joining of two or more strings into a single one is called concatenation.\n",
    "- The **+ operator** does this in Python. Simply writing two string literals together also concatenates them.\n",
    "- **Note :** to use + operator for strings, compulsory both should be string type only"
   ]
  },
  {
   "cell_type": "code",
   "execution_count": 41,
   "id": "2c0b9a61-48fd-440a-b9b5-04b0019d3d8a",
   "metadata": {},
   "outputs": [
    {
     "data": {
      "text/plain": [
       "'HelloWorld'"
      ]
     },
     "execution_count": 41,
     "metadata": {},
     "output_type": "execute_result"
    }
   ],
   "source": [
    "'Hello'+'World'"
   ]
  },
  {
   "cell_type": "code",
   "execution_count": 45,
   "id": "68967eaf-6f07-4f0c-b633-20d3a2babd57",
   "metadata": {},
   "outputs": [
    {
     "data": {
      "text/plain": [
       "'Hello World !!'"
      ]
     },
     "execution_count": 45,
     "metadata": {},
     "output_type": "execute_result"
    }
   ],
   "source": [
    "'Hello'+' '+ 'World !!'"
   ]
  },
  {
   "cell_type": "code",
   "execution_count": 47,
   "id": "2c39ddca-42f6-435b-aa00-2e5d80794d81",
   "metadata": {},
   "outputs": [
    {
     "data": {
      "text/plain": [
       "'Hello2'"
      ]
     },
     "execution_count": 47,
     "metadata": {},
     "output_type": "execute_result"
    }
   ],
   "source": [
    "'Hello' + '2'"
   ]
  },
  {
   "cell_type": "code",
   "execution_count": 51,
   "id": "21fb78a6-5585-4510-817b-165e0b0ae86a",
   "metadata": {},
   "outputs": [
    {
     "data": {
      "text/plain": [
       "'Hello2'"
      ]
     },
     "execution_count": 51,
     "metadata": {},
     "output_type": "execute_result"
    }
   ],
   "source": [
    "'Hello' + str(2)"
   ]
  },
  {
   "cell_type": "markdown",
   "id": "3a1c7c0e-e24d-45a5-be25-becd04d230fe",
   "metadata": {},
   "source": [
    "## **Type Casting :**"
   ]
  },
  {
   "cell_type": "code",
   "execution_count": 54,
   "id": "908e4680-3580-4e19-8465-c195eb189164",
   "metadata": {},
   "outputs": [
    {
     "data": {
      "text/plain": [
       "-4"
      ]
     },
     "execution_count": 54,
     "metadata": {},
     "output_type": "execute_result"
    }
   ],
   "source": [
    "int(-4)"
   ]
  },
  {
   "cell_type": "code",
   "execution_count": 66,
   "id": "d8435021-0c72-42a9-8ff8-2daaf807b9d8",
   "metadata": {},
   "outputs": [
    {
     "data": {
      "text/plain": [
       "4"
      ]
     },
     "execution_count": 66,
     "metadata": {},
     "output_type": "execute_result"
    }
   ],
   "source": [
    "int(4.99)"
   ]
  },
  {
   "cell_type": "code",
   "execution_count": 56,
   "id": "aa820206-963d-472c-bbfa-7f9798aa97de",
   "metadata": {},
   "outputs": [
    {
     "data": {
      "text/plain": [
       "-4.0"
      ]
     },
     "execution_count": 56,
     "metadata": {},
     "output_type": "execute_result"
    }
   ],
   "source": [
    "float(-4)"
   ]
  },
  {
   "cell_type": "code",
   "execution_count": 58,
   "id": "adc03b05-7f4d-4578-a644-e74302436680",
   "metadata": {},
   "outputs": [
    {
     "data": {
      "text/plain": [
       "False"
      ]
     },
     "execution_count": 58,
     "metadata": {},
     "output_type": "execute_result"
    }
   ],
   "source": [
    "bool(0.0000)"
   ]
  },
  {
   "cell_type": "code",
   "execution_count": 60,
   "id": "67217b13-1377-42d6-9c88-ab82cc2d47ec",
   "metadata": {},
   "outputs": [
    {
     "data": {
      "text/plain": [
       "True"
      ]
     },
     "execution_count": 60,
     "metadata": {},
     "output_type": "execute_result"
    }
   ],
   "source": [
    "bool(0.000001)"
   ]
  },
  {
   "cell_type": "code",
   "execution_count": 68,
   "id": "86870b80-79b3-4897-ba53-92ee6ca19faf",
   "metadata": {},
   "outputs": [
    {
     "data": {
      "text/plain": [
       "True"
      ]
     },
     "execution_count": 68,
     "metadata": {},
     "output_type": "execute_result"
    }
   ],
   "source": [
    "bool(4.9999)"
   ]
  },
  {
   "cell_type": "code",
   "execution_count": 62,
   "id": "df3a77f5-9358-4ac2-b885-005e8f25e1f6",
   "metadata": {},
   "outputs": [
    {
     "data": {
      "text/plain": [
       "'4'"
      ]
     },
     "execution_count": 62,
     "metadata": {},
     "output_type": "execute_result"
    }
   ],
   "source": [
    "str(4)"
   ]
  },
  {
   "cell_type": "code",
   "execution_count": 64,
   "id": "1b406e22-2d7d-4306-adf0-75ac0655e057",
   "metadata": {},
   "outputs": [
    {
     "data": {
      "text/plain": [
       "'2.0'"
      ]
     },
     "execution_count": 64,
     "metadata": {},
     "output_type": "execute_result"
    }
   ],
   "source": [
    "str(2.000)"
   ]
  },
  {
   "cell_type": "code",
   "execution_count": 70,
   "id": "4075c529-7534-4d88-96ad-0f0e7926f76a",
   "metadata": {},
   "outputs": [
    {
     "data": {
      "text/plain": [
       "1"
      ]
     },
     "execution_count": 70,
     "metadata": {},
     "output_type": "execute_result"
    }
   ],
   "source": [
    "int(True)"
   ]
  },
  {
   "cell_type": "code",
   "execution_count": 72,
   "id": "117b9409-a553-4577-8523-6c5732b124c2",
   "metadata": {},
   "outputs": [
    {
     "data": {
      "text/plain": [
       "0"
      ]
     },
     "execution_count": 72,
     "metadata": {},
     "output_type": "execute_result"
    }
   ],
   "source": [
    "int(False)"
   ]
  },
  {
   "cell_type": "code",
   "execution_count": 76,
   "id": "8953dcfc-5a99-4f50-ba56-b241cb8129cf",
   "metadata": {},
   "outputs": [
    {
     "data": {
      "text/plain": [
       "1.0"
      ]
     },
     "execution_count": 76,
     "metadata": {},
     "output_type": "execute_result"
    }
   ],
   "source": [
    "float(True)"
   ]
  },
  {
   "cell_type": "code",
   "execution_count": 80,
   "id": "4770ca8c-34c6-4921-bc1d-68525844409b",
   "metadata": {},
   "outputs": [
    {
     "data": {
      "text/plain": [
       "0.0"
      ]
     },
     "execution_count": 80,
     "metadata": {},
     "output_type": "execute_result"
    }
   ],
   "source": [
    "float(False)"
   ]
  },
  {
   "cell_type": "code",
   "execution_count": 84,
   "id": "8f28d9bd-7d4a-40c5-af0a-bfb9598341dd",
   "metadata": {},
   "outputs": [
    {
     "data": {
      "text/plain": [
       "'True'"
      ]
     },
     "execution_count": 84,
     "metadata": {},
     "output_type": "execute_result"
    }
   ],
   "source": [
    "str(True)"
   ]
  },
  {
   "cell_type": "code",
   "execution_count": 86,
   "id": "21be94ac-db5c-4b89-86c9-523fd3b7ca53",
   "metadata": {},
   "outputs": [
    {
     "data": {
      "text/plain": [
       "'False'"
      ]
     },
     "execution_count": 86,
     "metadata": {},
     "output_type": "execute_result"
    }
   ],
   "source": [
    "str(False)"
   ]
  },
  {
   "cell_type": "code",
   "execution_count": 102,
   "id": "7f37dd5d-9b92-442d-b3ee-cc09adee9199",
   "metadata": {},
   "outputs": [
    {
     "ename": "ValueError",
     "evalue": "invalid literal for int() with base 10: 'Hello'",
     "output_type": "error",
     "traceback": [
      "\u001b[1;31m---------------------------------------------------------------------------\u001b[0m",
      "\u001b[1;31mValueError\u001b[0m                                Traceback (most recent call last)",
      "Cell \u001b[1;32mIn[102], line 1\u001b[0m\n\u001b[1;32m----> 1\u001b[0m \u001b[38;5;28mint\u001b[39m(\u001b[38;5;124m'\u001b[39m\u001b[38;5;124mHello\u001b[39m\u001b[38;5;124m'\u001b[39m)\n",
      "\u001b[1;31mValueError\u001b[0m: invalid literal for int() with base 10: 'Hello'"
     ]
    }
   ],
   "source": [
    "int('Hello') # Can't Convert Non-Numeric Value to Numeric Value"
   ]
  },
  {
   "cell_type": "code",
   "execution_count": 104,
   "id": "13041e66-aad0-4527-b7b5-acc808d73867",
   "metadata": {},
   "outputs": [
    {
     "data": {
      "text/plain": [
       "123"
      ]
     },
     "execution_count": 104,
     "metadata": {},
     "output_type": "execute_result"
    }
   ],
   "source": [
    "int(\"123\")"
   ]
  },
  {
   "cell_type": "code",
   "execution_count": 106,
   "id": "f3cd17d4-104d-41fe-948a-1b087cbffd2a",
   "metadata": {},
   "outputs": [
    {
     "data": {
      "text/plain": [
       "1234.0"
      ]
     },
     "execution_count": 106,
     "metadata": {},
     "output_type": "execute_result"
    }
   ],
   "source": [
    "float(\"1234\")"
   ]
  },
  {
   "cell_type": "code",
   "execution_count": 108,
   "id": "a2ec7827-be90-4459-9838-d60bedbfb06d",
   "metadata": {},
   "outputs": [
    {
     "data": {
      "text/plain": [
       "True"
      ]
     },
     "execution_count": 108,
     "metadata": {},
     "output_type": "execute_result"
    }
   ],
   "source": [
    "bool('Hello')"
   ]
  },
  {
   "cell_type": "code",
   "execution_count": null,
   "id": "31572cad-a9a1-45eb-a30d-5ae28e54e6f2",
   "metadata": {},
   "outputs": [],
   "source": []
  },
  {
   "cell_type": "code",
   "execution_count": 111,
   "id": "123762d5-5d4f-4463-9e0c-3794966f7ca1",
   "metadata": {},
   "outputs": [
    {
     "data": {
      "text/plain": [
       "123.0"
      ]
     },
     "execution_count": 111,
     "metadata": {},
     "output_type": "execute_result"
    }
   ],
   "source": [
    "float(int(float('123.45')))"
   ]
  },
  {
   "cell_type": "markdown",
   "id": "e2c65168-b138-4940-9174-b037b1f0002e",
   "metadata": {},
   "source": [
    "______________________________________________________________________________________________"
   ]
  },
  {
   "cell_type": "markdown",
   "id": "b34e0e01-7d85-4763-be6b-06854ee38c65",
   "metadata": {},
   "source": [
    "## **2.Advanced Data Types -:**\n",
    "     \n",
    "   - List\n",
    "   - Tuple\n",
    "   - Set\n",
    "   - Dictionary\n",
    "                     \n"
   ]
  },
  {
   "cell_type": "markdown",
   "id": "caa9ead3-ff9c-430d-9ab3-ca41bca56743",
   "metadata": {},
   "source": [
    "___________________________________________________________________________________________________________________"
   ]
  },
  {
   "cell_type": "markdown",
   "id": "4ce9afee-d549-485a-a4a3-8cd154a3862b",
   "metadata": {},
   "source": [
    "## **1) List :**\n",
    "\n",
    "  **Definition :**\n",
    "- A list is a data structure in Python.\n",
    "- It is **mutable (changeable) and ordered.**\n",
    "- Elements are enclosed within square brackets [ ].\n",
    "\n",
    "**Elements :**\n",
    "- Each element in a list is called an item.\n",
    "- Items can be of any data type (integers, strings, other lists, etc.).\n",
    "\n",
    "**Syntax :**\n",
    "- Lists are defined by having values between square brackets.\n",
    "- Example: my_list = [1, 2, 3, 'a', 'b', 'c'].\n",
    "\n",
    "**Mutability :**\n",
    "- Lists can be changed after their creation.\n",
    "- Items can be added, removed, or modified.\n",
    "\n",
    "**Order :**\n",
    "- Lists maintain the order of elements as they are added.\n",
    "- Items can be accessed by their index, with the first item at index 0.\n",
    "\n",
    "**Usage :**\n",
    "- Useful for working with many related values.\n",
    "- Helps in keeping related data together.\n",
    "\n",
    "**Operations and Methods :**\n",
    "\n",
    "You can perform various operations on lists such as:\n",
    "\n",
    "- **Adding elements -  (append(), extend())**\n",
    "- **Removing elements -  (remove(), pop())**\n",
    "- **Sorting -  (sort())**\n",
    "- **Reversing -  (reverse())**\n",
    "- **Indexing and slicing.**\n",
    "\n",
    "**Code Condensation:**\n",
    "\n",
    "- Lists help in condensing your code.\n",
    "- Enable performing the same methods and operations on multiple values at once.\n",
    "\n",
    "**Examples:**\n",
    "\n",
    "- Creating a list: my_list = [10, 20, 30]\n",
    "  \n",
    "- Adding an item: my_list.append(40)\n",
    "\n",
    "- Accessing an item: my_list[1] # Accesses the second item (20)\n",
    "\n",
    "- Removing an item: my_list.remove(20)\n",
    "\n",
    "**Nested Lists:**\n",
    "\n",
    "- Lists can contain other lists, enabling the creation of complex data structures.\n",
    "Example: nested_list = [[1, 2], [3, 4]]\n",
    "\n",
    "  By utilizing these points, you can effectively work with lists in Python to manage and manipulate collections of related data.\n",
    "\n",
    "__________________________________________________________________________________________________________________"
   ]
  },
  {
   "cell_type": "markdown",
   "id": "56bbd7d7-fc20-4cbb-93d8-d7b66a056683",
   "metadata": {},
   "source": [
    "**Creating a List :** "
   ]
  },
  {
   "cell_type": "code",
   "execution_count": 56,
   "id": "8503f3f9-5e08-4344-abbe-db14f22a05c4",
   "metadata": {},
   "outputs": [
    {
     "name": "stdout",
     "output_type": "stream",
     "text": [
      "[1, 2, 3, 4, 'Hello Python', '@']\n"
     ]
    },
    {
     "data": {
      "text/plain": [
       "list"
      ]
     },
     "execution_count": 56,
     "metadata": {},
     "output_type": "execute_result"
    }
   ],
   "source": [
    "My_List = [1,2,3,4,\"Hello Python\",\"@\"]\n",
    "\n",
    "print(My_List)\n",
    "    \n",
    "type(My_List)"
   ]
  },
  {
   "cell_type": "markdown",
   "id": "4e766c99-2a0d-44c6-b4e6-0cf544cf5110",
   "metadata": {},
   "source": [
    "______________________________________________________________________________________________"
   ]
  },
  {
   "cell_type": "markdown",
   "id": "53d14102-55e1-41cb-b97e-12ef4d0b43ec",
   "metadata": {},
   "source": [
    "## **2) Tuple :**\n",
    "\n",
    "**Definition :**\n",
    "- A tuple is a data structure in Python.\n",
    "- It is **immutable (unchangeable) and ordered**.\n",
    "- Elements are enclosed within **parentheses ( )**.\n",
    "\n",
    "**Elements :**\n",
    "- Each element in a tuple is called an item.\n",
    "- Items can be of any data type (integers, strings, other tuples, etc.).\n",
    "\n",
    "**Syntax :**\n",
    "- Tuples are defined by having values between parentheses.\n",
    "- Example: my_tuple = (1, 2, 3, 'a', 'b', 'c').\n",
    "\n",
    "**Immutability :**\n",
    "- Tuples cannot be changed after their creation.\n",
    "- Items cannot be added, removed, or modified.\n",
    "\n",
    "**Order :**\n",
    "- Tuples maintain the order of elements as they are added.\n",
    "- Items can be accessed by their index, with the first item at index 0.\n",
    "\n",
    "**Usage :**\n",
    "- Useful for working with related values that should not change.\n",
    "- Helps in keeping related data together and ensures data integrity.\n",
    "\n",
    "**Operations and Methods :**\n",
    "- You can perform various operations on tuples such as:\n",
    "- **Accessing elements - (my_tuple[1])**\n",
    "- **Concatenation - (my_tuple + another_tuple)**\n",
    "- **Repetition - (my_tuple * 3)**\n",
    "- **Indexing and slicing.**\n",
    "- **Counting occurrences - (my_tuple.count(value))**\n",
    "- **Finding index of an item - (my_tuple.index(value))**\n",
    "\n",
    "**Code Condensation :**\n",
    "- Tuples help in condensing your code.\n",
    "- They ensure that the data remains constant throughout the program.\n",
    "\n",
    "**Examples:**\n",
    "\n",
    "- **Creating a tuple: my_tuple = (10, 20, 30)**\n",
    "\n",
    "- **Accessing an item: my_tuple[1] # Accesses the second item (20)**\n",
    "\n",
    "- **Concatenating tuples: my_tuple + (40, 50)**\n",
    "\n",
    "- **Repeating a tuple: my_tuple * 2**\n",
    "\n",
    "**Nested Tuples :**\n",
    "- Tuples can contain other tuples, enabling the creation of complex data structures.\n",
    "- Example: nested_tuple = ((1, 2), (3, 4))\n",
    "\n",
    "  By utilizing these points, you can effectively work with tuples in Python to manage and manipulate collections of related data that should remain constant.\n",
    "__________________________________________________________________________________________________________________"
   ]
  },
  {
   "cell_type": "markdown",
   "id": "30894136-1b5b-4e01-864c-9a9d05f40f27",
   "metadata": {},
   "source": [
    "**Creating a tuple :**"
   ]
  },
  {
   "cell_type": "code",
   "execution_count": 99,
   "id": "c304d799-62b0-46ae-84d2-9b7b91273a08",
   "metadata": {},
   "outputs": [
    {
     "name": "stdout",
     "output_type": "stream",
     "text": [
      "(10, 20, 30)\n"
     ]
    }
   ],
   "source": [
    "My_Tuple = (10, 20, 30)\n",
    "print(My_Tuple)"
   ]
  },
  {
   "cell_type": "code",
   "execution_count": 101,
   "id": "1a78b5d4-c873-4b3a-b6a8-4d396559d532",
   "metadata": {},
   "outputs": [
    {
     "name": "stdout",
     "output_type": "stream",
     "text": [
      "(4.5, 10, 'Python')\n"
     ]
    },
    {
     "data": {
      "text/plain": [
       "tuple"
      ]
     },
     "execution_count": 101,
     "metadata": {},
     "output_type": "execute_result"
    }
   ],
   "source": [
    "d = 4.5, 10,\"Python\"\n",
    "\n",
    "# in python by default multiple values stored as Tuple\n",
    "\n",
    "print(d)\n",
    "\n",
    "type(d)"
   ]
  },
  {
   "cell_type": "code",
   "execution_count": null,
   "id": "3016847a-f9c2-42c9-ae75-bfb64d96dccf",
   "metadata": {},
   "outputs": [],
   "source": []
  },
  {
   "cell_type": "code",
   "execution_count": 104,
   "id": "cb4b32a6-8ed8-49e3-8aa7-708f3e08f07c",
   "metadata": {},
   "outputs": [
    {
     "name": "stdout",
     "output_type": "stream",
     "text": [
      "(1, 2, 3, 4, 5)\n"
     ]
    },
    {
     "ename": "TypeError",
     "evalue": "'tuple' object does not support item assignment",
     "output_type": "error",
     "traceback": [
      "\u001b[1;31m--------------------------------------------\u001b[0m",
      "\u001b[1;31mTypeError\u001b[0m  Traceback (most recent call last)",
      "Cell \u001b[1;32mIn[104], line 7\u001b[0m\n\u001b[0;32m      3\u001b[0m tuple_1 \u001b[38;5;241m=\u001b[39m (\u001b[38;5;241m1\u001b[39m,\u001b[38;5;241m2\u001b[39m,\u001b[38;5;241m3\u001b[39m,\u001b[38;5;241m4\u001b[39m,\u001b[38;5;241m5\u001b[39m)\n\u001b[0;32m      5\u001b[0m \u001b[38;5;28mprint\u001b[39m(tuple_1)\n\u001b[1;32m----> 7\u001b[0m tuple_1[\u001b[38;5;241m0\u001b[39m] \u001b[38;5;241m=\u001b[39m \u001b[38;5;241m10\u001b[39m\n\u001b[0;32m      9\u001b[0m \u001b[38;5;28mprint\u001b[39m(tuple_1)\n",
      "\u001b[1;31mTypeError\u001b[0m: 'tuple' object does not support item assignment"
     ]
    }
   ],
   "source": [
    "# Immutable Property of Tuple :\n",
    "\n",
    "tuple_1 = (1,2,3,4,5)\n",
    "\n",
    "print(tuple_1)\n",
    "\n",
    "tuple_1[0] = 10\n",
    "\n",
    "print(tuple_1)"
   ]
  },
  {
   "cell_type": "markdown",
   "id": "a4b4277a-ea40-44bb-af14-9e7638a6e2ea",
   "metadata": {},
   "source": [
    "__________________________________________________________________________________________________________________"
   ]
  },
  {
   "cell_type": "markdown",
   "id": "8d4499b0-0f80-4cde-9e20-ea22d76946ae",
   "metadata": {},
   "source": [
    "## 3.Set :\n",
    "**Definition :**\n",
    "- A set is a data structure in Python.\n",
    "- It is mutable (changeable) and unordered.\n",
    "- Elements are enclosed within curly braces { }.\n",
    "\n",
    "**Elements :**\n",
    "- Each element in a set is called an item.\n",
    "- Items must be of an immutable data type (integers, strings, tuples, etc.).\n",
    "- Sets **doesn't allow duplicate items**.\n",
    "\n",
    "**Syntax :**\n",
    "- Sets are defined by having values between curly braces.\n",
    "\n",
    "**Example:**\n",
    "my_set = {1, 2, 3, 'a', 'b', 'c'}.\n",
    "\n",
    "\n",
    "**Mutability :**\n",
    "- Sets can be changed after their creation.\n",
    "- Items can be added, removed, but sets themselves are unordered and do not allow indexing.\n",
    "\n",
    "**Order :**\n",
    "- Sets do not maintain the order of elements.\n",
    "- Items cannot be accessed by their index.\n",
    "\n",
    "**Usage :**\n",
    "- Useful for working with unique values.\n",
    "- Helps in performing mathematical set operations like union, intersection, and difference.\n",
    "\n",
    "**Operations and Methods :**\n",
    "You can perform various operations on sets such as:\n",
    "- Adding elements - (add())\n",
    "- Removing elements - (remove(), discard(), pop())\n",
    "- Union - (union())\n",
    "- Intersection - (intersection())\n",
    "- Difference - (difference())\n",
    "- Checking membership - (in)\n",
    "\n",
    "\n",
    "**Code Condensation:**\n",
    "- Sets help in condensing your code when dealing with unique items.\n",
    "- Enable performing set operations easily and efficiently.\n",
    "\n",
    "**Examples:**\n",
    "- Creating a set: my_set = {10, 20, 30}\n",
    "- Adding an item: my_set.add(40)\n",
    "- Removing an item: my_set.remove(20)\n",
    "\n",
    "\n",
    "__________________________________________________________________________________________________________________"
   ]
  },
  {
   "cell_type": "markdown",
   "id": "1ad60409-a604-41a6-96f4-33dcc204d42e",
   "metadata": {},
   "source": [
    "**Creating a Set :**"
   ]
  },
  {
   "cell_type": "code",
   "execution_count": 11,
   "id": "a4f48961-2433-4093-baa1-244ef94f4ee8",
   "metadata": {},
   "outputs": [
    {
     "name": "stdout",
     "output_type": "stream",
     "text": [
      "{10, 20, 30}\n"
     ]
    },
    {
     "data": {
      "text/plain": [
       "set"
      ]
     },
     "execution_count": 11,
     "metadata": {},
     "output_type": "execute_result"
    }
   ],
   "source": [
    "My_Set={10,20,30}\n",
    "\n",
    "print(My_Set)\n",
    "\n",
    "type(My_Set)"
   ]
  },
  {
   "cell_type": "markdown",
   "id": "df666313-7f64-4bbc-b7aa-0c691c624e86",
   "metadata": {},
   "source": [
    "**Duplicate values will be ignored:**"
   ]
  },
  {
   "cell_type": "code",
   "execution_count": 26,
   "id": "05c9f7ba-ce49-4cef-b2d4-6219d4d22e1c",
   "metadata": {},
   "outputs": [
    {
     "name": "stdout",
     "output_type": "stream",
     "text": [
      "{'apple', 'banana', 'cherry'}\n"
     ]
    }
   ],
   "source": [
    "this_set = {\"apple\", \"banana\", \"cherry\", \"apple\"}\n",
    "\n",
    "print(this_set)"
   ]
  },
  {
   "cell_type": "markdown",
   "id": "05aa6082-4cf4-40a1-96c5-6d5106299e68",
   "metadata": {},
   "source": [
    "__________________________________________________________________________________________________________________"
   ]
  },
  {
   "cell_type": "markdown",
   "id": "cc46d7e4-bb12-458d-91a4-b75f8b546c51",
   "metadata": {},
   "source": [
    "## 4) Dictionary :\n",
    "\n",
    "Definition :\n",
    "- A dictionary is a data structure in Python.\n",
    "- It is **mutable (changeable) and unordered.**\n",
    "- Elements are key-value pairs enclosed within **curly braces { }.**\n",
    "\n",
    "**Elements :**\n",
    "- Each element in a dictionary is called a key-value pair.\n",
    "- Keys must be of an **immutable data type** (integers, strings, tuples, etc.).\n",
    "- Values can be of any data type (integers, strings, lists, other dictionaries, etc.).\n",
    "\n",
    "**Syntax :**\n",
    "- Dictionaries are defined by having key-value pairs between curly braces.\n",
    "\n",
    "**Example:**\n",
    "  my_dict = {'a': 1, 'b': 2, 'c': 3}.\n",
    "\n",
    "**Mutability :**\n",
    "- Dictionaries can be changed after their creation.\n",
    "- Key-value pairs can be added, removed, or modified.\n",
    "\n",
    "**Order :**\n",
    "- In Python 3.7 and later, dictionaries maintain the order of elements as they are added.\n",
    "- Items can be accessed by their key.\n",
    "\n",
    "**Usage :**\n",
    "- Useful for working with related data that is in pairs.\n",
    "- Helps in quickly retrieving values using keys.\n",
    "\n",
    "**Operations and Methods :**\n",
    "You can perform various operations on dictionaries such as:\n",
    "- Adding elements - (my_dict[key] = value)\n",
    "- Removing elements - (del my_dict[key], pop())\n",
    "- Accessing elements - (my_dict[key])\n",
    "- Getting all keys - (keys())\n",
    "- Getting all values - (values())\n",
    "- Getting all key-value pairs - (items())\n",
    "- Checking membership - (in)\n",
    "\n",
    "**Code Condensation:**\n",
    "- Dictionaries help in condensing your code when dealing with paired data.\n",
    "- Enable efficient key-value mapping and retrieval.\n",
    "\n",
    "**Examples:**\n",
    "- Creating a dictionary: my_dict = {'a': 1, 'b': 2, 'c': 3}\n",
    "  \n",
    "- Adding an item: my_dict['d'] = 4\n",
    "  \n",
    "- Accessing an item: print(my_dict['b']) # Output: 2\n",
    "  \n",
    "- Removing an item: del my_dict['a']\n",
    "___________________________________________________________________________________________________________________"
   ]
  },
  {
   "cell_type": "markdown",
   "id": "d19fe8d2-ac4e-4128-a337-4db01f23c967",
   "metadata": {},
   "source": [
    "**Creating a Dictionary :**"
   ]
  },
  {
   "cell_type": "code",
   "execution_count": 22,
   "id": "c665017f-61fa-4bd7-931e-eddded4f9fee",
   "metadata": {},
   "outputs": [
    {
     "name": "stdout",
     "output_type": "stream",
     "text": [
      "{'a': 1, 'b': 20, 'c': 30}\n"
     ]
    },
    {
     "data": {
      "text/plain": [
       "dict"
      ]
     },
     "execution_count": 22,
     "metadata": {},
     "output_type": "execute_result"
    }
   ],
   "source": [
    "My_Dict={'a':1,'b':20,'c':30}\n",
    "\n",
    "print(My_Dict)\n",
    "\n",
    "type(My_Dict)"
   ]
  },
  {
   "cell_type": "code",
   "execution_count": null,
   "id": "b77a8c49-d640-4504-8a18-481fcee0a3ba",
   "metadata": {},
   "outputs": [],
   "source": []
  }
 ],
 "metadata": {
  "kernelspec": {
   "display_name": "Python 3 (ipykernel)",
   "language": "python",
   "name": "python3"
  },
  "language_info": {
   "codemirror_mode": {
    "name": "ipython",
    "version": 3
   },
   "file_extension": ".py",
   "mimetype": "text/x-python",
   "name": "python",
   "nbconvert_exporter": "python",
   "pygments_lexer": "ipython3",
   "version": "3.11.7"
  }
 },
 "nbformat": 4,
 "nbformat_minor": 5
}
